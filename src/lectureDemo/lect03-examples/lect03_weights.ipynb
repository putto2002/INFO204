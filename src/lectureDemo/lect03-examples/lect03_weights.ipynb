{
 "cells": [
  {
   "cell_type": "markdown",
   "source": [
    "# Working with pandas aggregation\n",
    "For starters, let's import some required libraries"
   ],
   "metadata": {}
  },
  {
   "cell_type": "code",
   "execution_count": 1,
   "source": [
    "import pandas as pd"
   ],
   "outputs": [],
   "metadata": {}
  },
  {
   "cell_type": "markdown",
   "source": [
    "Then, let's introduce some data (in this case, some weight recordings over time)"
   ],
   "metadata": {}
  },
  {
   "cell_type": "code",
   "execution_count": 9,
   "source": [
    "weight_data = pd.read_csv('weights.csv')\n",
    "weight_data['date'] = pd.to_datetime(weight_data['date'])\n",
    "weight_data"
   ],
   "outputs": [
    {
     "output_type": "execute_result",
     "data": {
      "text/plain": [
       "                          date TOD     weight     bmi        fat\n",
       "0    2015-01-09 14:00:00+00:00  PM  86.363917  27.880  24.711000\n",
       "1    2015-01-09 23:00:00+00:00  PM  86.091762  27.800  22.131001\n",
       "2    2015-01-10 09:00:00+00:00  AM  85.910325  27.740  21.806999\n",
       "3    2015-01-10 22:00:00+00:00  PM  85.502092  27.610  20.952000\n",
       "4    2015-01-11 07:00:00+00:00  AM  85.502092  27.610  21.162001\n",
       "...                        ...  ..        ...     ...        ...\n",
       "3817 2021-06-27 08:00:00+00:00  AM  75.341631  24.330  17.181999\n",
       "3818 2021-06-27 12:00:00+00:00  AM  73.451665  23.720  17.105333\n",
       "3819 2021-06-28 07:00:00+00:00  AM  75.545748  24.395  16.941999\n",
       "3820 2021-06-29 07:00:00+00:00  AM  75.840582  24.490  16.822001\n",
       "3821 2021-06-29 08:00:00+00:00  AM  75.523068  24.390  16.684000\n",
       "\n",
       "[3822 rows x 5 columns]"
      ],
      "text/html": [
       "<div>\n",
       "<style scoped>\n",
       "    .dataframe tbody tr th:only-of-type {\n",
       "        vertical-align: middle;\n",
       "    }\n",
       "\n",
       "    .dataframe tbody tr th {\n",
       "        vertical-align: top;\n",
       "    }\n",
       "\n",
       "    .dataframe thead th {\n",
       "        text-align: right;\n",
       "    }\n",
       "</style>\n",
       "<table border=\"1\" class=\"dataframe\">\n",
       "  <thead>\n",
       "    <tr style=\"text-align: right;\">\n",
       "      <th></th>\n",
       "      <th>date</th>\n",
       "      <th>TOD</th>\n",
       "      <th>weight</th>\n",
       "      <th>bmi</th>\n",
       "      <th>fat</th>\n",
       "    </tr>\n",
       "  </thead>\n",
       "  <tbody>\n",
       "    <tr>\n",
       "      <th>0</th>\n",
       "      <td>2015-01-09 14:00:00+00:00</td>\n",
       "      <td>PM</td>\n",
       "      <td>86.363917</td>\n",
       "      <td>27.880</td>\n",
       "      <td>24.711000</td>\n",
       "    </tr>\n",
       "    <tr>\n",
       "      <th>1</th>\n",
       "      <td>2015-01-09 23:00:00+00:00</td>\n",
       "      <td>PM</td>\n",
       "      <td>86.091762</td>\n",
       "      <td>27.800</td>\n",
       "      <td>22.131001</td>\n",
       "    </tr>\n",
       "    <tr>\n",
       "      <th>2</th>\n",
       "      <td>2015-01-10 09:00:00+00:00</td>\n",
       "      <td>AM</td>\n",
       "      <td>85.910325</td>\n",
       "      <td>27.740</td>\n",
       "      <td>21.806999</td>\n",
       "    </tr>\n",
       "    <tr>\n",
       "      <th>3</th>\n",
       "      <td>2015-01-10 22:00:00+00:00</td>\n",
       "      <td>PM</td>\n",
       "      <td>85.502092</td>\n",
       "      <td>27.610</td>\n",
       "      <td>20.952000</td>\n",
       "    </tr>\n",
       "    <tr>\n",
       "      <th>4</th>\n",
       "      <td>2015-01-11 07:00:00+00:00</td>\n",
       "      <td>AM</td>\n",
       "      <td>85.502092</td>\n",
       "      <td>27.610</td>\n",
       "      <td>21.162001</td>\n",
       "    </tr>\n",
       "    <tr>\n",
       "      <th>...</th>\n",
       "      <td>...</td>\n",
       "      <td>...</td>\n",
       "      <td>...</td>\n",
       "      <td>...</td>\n",
       "      <td>...</td>\n",
       "    </tr>\n",
       "    <tr>\n",
       "      <th>3817</th>\n",
       "      <td>2021-06-27 08:00:00+00:00</td>\n",
       "      <td>AM</td>\n",
       "      <td>75.341631</td>\n",
       "      <td>24.330</td>\n",
       "      <td>17.181999</td>\n",
       "    </tr>\n",
       "    <tr>\n",
       "      <th>3818</th>\n",
       "      <td>2021-06-27 12:00:00+00:00</td>\n",
       "      <td>AM</td>\n",
       "      <td>73.451665</td>\n",
       "      <td>23.720</td>\n",
       "      <td>17.105333</td>\n",
       "    </tr>\n",
       "    <tr>\n",
       "      <th>3819</th>\n",
       "      <td>2021-06-28 07:00:00+00:00</td>\n",
       "      <td>AM</td>\n",
       "      <td>75.545748</td>\n",
       "      <td>24.395</td>\n",
       "      <td>16.941999</td>\n",
       "    </tr>\n",
       "    <tr>\n",
       "      <th>3820</th>\n",
       "      <td>2021-06-29 07:00:00+00:00</td>\n",
       "      <td>AM</td>\n",
       "      <td>75.840582</td>\n",
       "      <td>24.490</td>\n",
       "      <td>16.822001</td>\n",
       "    </tr>\n",
       "    <tr>\n",
       "      <th>3821</th>\n",
       "      <td>2021-06-29 08:00:00+00:00</td>\n",
       "      <td>AM</td>\n",
       "      <td>75.523068</td>\n",
       "      <td>24.390</td>\n",
       "      <td>16.684000</td>\n",
       "    </tr>\n",
       "  </tbody>\n",
       "</table>\n",
       "<p>3822 rows × 5 columns</p>\n",
       "</div>"
      ]
     },
     "metadata": {},
     "execution_count": 9
    }
   ],
   "metadata": {}
  },
  {
   "cell_type": "markdown",
   "source": [
    "There's way too many readings in this data, let's take a single average reading for a given day, and then work from there. We do this by aggregating all the readings for a given day, and then computing the mean weight value for each group. First, let's work out how to get a date value rounded to the nearest day (check out the [floor()](https://pandas.pydata.org/docs/reference/api/pandas.Series.dt.floor.html) function for this):"
   ],
   "metadata": {}
  },
  {
   "cell_type": "code",
   "execution_count": 10,
   "source": [
    "weight_data['date'].dt.floor('D')"
   ],
   "outputs": [
    {
     "output_type": "execute_result",
     "data": {
      "text/plain": [
       "0      2015-01-09 00:00:00+00:00\n",
       "1      2015-01-09 00:00:00+00:00\n",
       "2      2015-01-10 00:00:00+00:00\n",
       "3      2015-01-10 00:00:00+00:00\n",
       "4      2015-01-11 00:00:00+00:00\n",
       "                  ...           \n",
       "3817   2021-06-27 00:00:00+00:00\n",
       "3818   2021-06-27 00:00:00+00:00\n",
       "3819   2021-06-28 00:00:00+00:00\n",
       "3820   2021-06-29 00:00:00+00:00\n",
       "3821   2021-06-29 00:00:00+00:00\n",
       "Name: date, Length: 3822, dtype: datetime64[ns, UTC]"
      ]
     },
     "metadata": {},
     "execution_count": 10
    }
   ],
   "metadata": {}
  },
  {
   "cell_type": "markdown",
   "source": [
    "That looks like it'll do the trick. Let's group our whole data set by these rounded values, and then from there compute the mean reading for each day:"
   ],
   "metadata": {}
  },
  {
   "cell_type": "code",
   "execution_count": 5,
   "source": [
    "daily_trend = weight_data.groupby(weight_data['date'].dt.floor('D'))[['weight']].mean()\n",
    "daily_trend"
   ],
   "outputs": [
    {
     "output_type": "execute_result",
     "data": {
      "text/plain": [
       "                              weight\n",
       "date                                \n",
       "2015-01-09 00:00:00+00:00  86.227839\n",
       "2015-01-10 00:00:00+00:00  85.706208\n",
       "2015-01-11 00:00:00+00:00  85.978364\n",
       "2015-01-12 00:00:00+00:00  86.772150\n",
       "2015-01-13 00:00:00+00:00  86.046402\n",
       "...                              ...\n",
       "2021-06-25 00:00:00+00:00  75.296272\n",
       "2021-06-26 00:00:00+00:00  75.273592\n",
       "2021-06-27 00:00:00+00:00  74.396648\n",
       "2021-06-28 00:00:00+00:00  75.545748\n",
       "2021-06-29 00:00:00+00:00  75.681825\n",
       "\n",
       "[2076 rows x 1 columns]"
      ],
      "text/html": [
       "<div>\n",
       "<style scoped>\n",
       "    .dataframe tbody tr th:only-of-type {\n",
       "        vertical-align: middle;\n",
       "    }\n",
       "\n",
       "    .dataframe tbody tr th {\n",
       "        vertical-align: top;\n",
       "    }\n",
       "\n",
       "    .dataframe thead th {\n",
       "        text-align: right;\n",
       "    }\n",
       "</style>\n",
       "<table border=\"1\" class=\"dataframe\">\n",
       "  <thead>\n",
       "    <tr style=\"text-align: right;\">\n",
       "      <th></th>\n",
       "      <th>weight</th>\n",
       "    </tr>\n",
       "    <tr>\n",
       "      <th>date</th>\n",
       "      <th></th>\n",
       "    </tr>\n",
       "  </thead>\n",
       "  <tbody>\n",
       "    <tr>\n",
       "      <th>2015-01-09 00:00:00+00:00</th>\n",
       "      <td>86.227839</td>\n",
       "    </tr>\n",
       "    <tr>\n",
       "      <th>2015-01-10 00:00:00+00:00</th>\n",
       "      <td>85.706208</td>\n",
       "    </tr>\n",
       "    <tr>\n",
       "      <th>2015-01-11 00:00:00+00:00</th>\n",
       "      <td>85.978364</td>\n",
       "    </tr>\n",
       "    <tr>\n",
       "      <th>2015-01-12 00:00:00+00:00</th>\n",
       "      <td>86.772150</td>\n",
       "    </tr>\n",
       "    <tr>\n",
       "      <th>2015-01-13 00:00:00+00:00</th>\n",
       "      <td>86.046402</td>\n",
       "    </tr>\n",
       "    <tr>\n",
       "      <th>...</th>\n",
       "      <td>...</td>\n",
       "    </tr>\n",
       "    <tr>\n",
       "      <th>2021-06-25 00:00:00+00:00</th>\n",
       "      <td>75.296272</td>\n",
       "    </tr>\n",
       "    <tr>\n",
       "      <th>2021-06-26 00:00:00+00:00</th>\n",
       "      <td>75.273592</td>\n",
       "    </tr>\n",
       "    <tr>\n",
       "      <th>2021-06-27 00:00:00+00:00</th>\n",
       "      <td>74.396648</td>\n",
       "    </tr>\n",
       "    <tr>\n",
       "      <th>2021-06-28 00:00:00+00:00</th>\n",
       "      <td>75.545748</td>\n",
       "    </tr>\n",
       "    <tr>\n",
       "      <th>2021-06-29 00:00:00+00:00</th>\n",
       "      <td>75.681825</td>\n",
       "    </tr>\n",
       "  </tbody>\n",
       "</table>\n",
       "<p>2076 rows × 1 columns</p>\n",
       "</div>"
      ]
     },
     "metadata": {},
     "execution_count": 5
    }
   ],
   "metadata": {}
  },
  {
   "cell_type": "markdown",
   "source": [
    "Let's see what the data looks like over time. pandas provides a simple plot interface which is pretty useful (we'll use more elaborate plotting tools in labs, where appropriate, but this kind of plotting is VERY useful for diagnostics!):"
   ],
   "metadata": {}
  },
  {
   "cell_type": "code",
   "execution_count": 6,
   "source": [
    "daily_trend.plot(style='.')"
   ],
   "outputs": [
    {
     "output_type": "execute_result",
     "data": {
      "text/plain": [
       "<AxesSubplot:xlabel='date'>"
      ]
     },
     "metadata": {},
     "execution_count": 6
    },
    {
     "output_type": "display_data",
     "data": {
      "text/plain": [
       "<Figure size 432x288 with 1 Axes>"
      ],
      "image/png": "[encoded data removed]"
     },
     "metadata": {
      "needs_background": "light"
     }
    }
   ],
   "metadata": {}
  },
  {
   "cell_type": "markdown",
   "source": [
    "Note that the readings also include a 'TOD' entry, which indicates if the reading was taken before or after 12pm. Let's apply a filter to our data, so that we only keep the PM readings:"
   ],
   "metadata": {}
  },
  {
   "cell_type": "code",
   "execution_count": 7,
   "source": [
    "evening_readings = weight_data[weight_data['TOD']=='PM'].groupby(weight_data['date'].dt.floor('D'))[['weight']].mean()\n",
    "evening_readings"
   ],
   "outputs": [
    {
     "output_type": "execute_result",
     "data": {
      "text/plain": [
       "                              weight\n",
       "date                                \n",
       "2015-01-09 00:00:00+00:00  86.227839\n",
       "2015-01-10 00:00:00+00:00  85.502092\n",
       "2015-01-11 00:00:00+00:00  86.454635\n",
       "2015-01-12 00:00:00+00:00  86.726790\n",
       "2015-01-13 00:00:00+00:00  86.137121\n",
       "...                              ...\n",
       "2021-06-06 00:00:00+00:00  75.069476\n",
       "2021-06-08 00:00:00+00:00  76.248815\n",
       "2021-06-09 00:00:00+00:00  74.207651\n",
       "2021-06-14 00:00:00+00:00  74.729282\n",
       "2021-06-26 00:00:00+00:00  75.477709\n",
       "\n",
       "[1213 rows x 1 columns]"
      ],
      "text/html": [
       "<div>\n",
       "<style scoped>\n",
       "    .dataframe tbody tr th:only-of-type {\n",
       "        vertical-align: middle;\n",
       "    }\n",
       "\n",
       "    .dataframe tbody tr th {\n",
       "        vertical-align: top;\n",
       "    }\n",
       "\n",
       "    .dataframe thead th {\n",
       "        text-align: right;\n",
       "    }\n",
       "</style>\n",
       "<table border=\"1\" class=\"dataframe\">\n",
       "  <thead>\n",
       "    <tr style=\"text-align: right;\">\n",
       "      <th></th>\n",
       "      <th>weight</th>\n",
       "    </tr>\n",
       "    <tr>\n",
       "      <th>date</th>\n",
       "      <th></th>\n",
       "    </tr>\n",
       "  </thead>\n",
       "  <tbody>\n",
       "    <tr>\n",
       "      <th>2015-01-09 00:00:00+00:00</th>\n",
       "      <td>86.227839</td>\n",
       "    </tr>\n",
       "    <tr>\n",
       "      <th>2015-01-10 00:00:00+00:00</th>\n",
       "      <td>85.502092</td>\n",
       "    </tr>\n",
       "    <tr>\n",
       "      <th>2015-01-11 00:00:00+00:00</th>\n",
       "      <td>86.454635</td>\n",
       "    </tr>\n",
       "    <tr>\n",
       "      <th>2015-01-12 00:00:00+00:00</th>\n",
       "      <td>86.726790</td>\n",
       "    </tr>\n",
       "    <tr>\n",
       "      <th>2015-01-13 00:00:00+00:00</th>\n",
       "      <td>86.137121</td>\n",
       "    </tr>\n",
       "    <tr>\n",
       "      <th>...</th>\n",
       "      <td>...</td>\n",
       "    </tr>\n",
       "    <tr>\n",
       "      <th>2021-06-06 00:00:00+00:00</th>\n",
       "      <td>75.069476</td>\n",
       "    </tr>\n",
       "    <tr>\n",
       "      <th>2021-06-08 00:00:00+00:00</th>\n",
       "      <td>76.248815</td>\n",
       "    </tr>\n",
       "    <tr>\n",
       "      <th>2021-06-09 00:00:00+00:00</th>\n",
       "      <td>74.207651</td>\n",
       "    </tr>\n",
       "    <tr>\n",
       "      <th>2021-06-14 00:00:00+00:00</th>\n",
       "      <td>74.729282</td>\n",
       "    </tr>\n",
       "    <tr>\n",
       "      <th>2021-06-26 00:00:00+00:00</th>\n",
       "      <td>75.477709</td>\n",
       "    </tr>\n",
       "  </tbody>\n",
       "</table>\n",
       "<p>1213 rows × 1 columns</p>\n",
       "</div>"
      ]
     },
     "metadata": {},
     "execution_count": 7
    }
   ],
   "metadata": {}
  },
  {
   "cell_type": "markdown",
   "source": [
    "And let's plot that:"
   ],
   "metadata": {}
  },
  {
   "cell_type": "code",
   "execution_count": 8,
   "source": [
    "evening_readings.plot(style='.')"
   ],
   "outputs": [
    {
     "output_type": "execute_result",
     "data": {
      "text/plain": [
       "<AxesSubplot:xlabel='date'>"
      ]
     },
     "metadata": {},
     "execution_count": 8
    },
    {
     "output_type": "display_data",
     "data": {
      "text/plain": [
       "<Figure size 432x288 with 1 Axes>"
      ],
      "image/png": "[encoded data removed]"
     },
     "metadata": {
      "needs_background": "light"
     }
    }
   ],
   "metadata": {}
  }
 ],
 "metadata": {
  "kernelspec": {
   "name": "python3",
   "display_name": "Python 3.9.6 64-bit ('INFO204': venv)"
  },
  "language_info": {
   "name": "python",
   "version": "3.9.6",
   "mimetype": "text/x-python",
   "codemirror_mode": {
    "name": "ipython",
    "version": 3
   },
   "pygments_lexer": "ipython3",
   "nbconvert_exporter": "python",
   "file_extension": ".py"
  },
  "interpreter": {
   "hash": "537143f7b593fd0d47db82ce2b5e43889682b93f538860d1dda0281ea3ca0611"
  }
 },
 "nbformat": 4,
 "nbformat_minor": 5
}