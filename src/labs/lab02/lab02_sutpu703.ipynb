{
 "cells": [
  {
   "cell_type": "markdown",
   "source": [
    "# INFO 204 Lab 2 - Data Manipulation & Plotting"
   ],
   "metadata": {
    "colab_type": "text",
    "id": "Ys1xODghCLiT"
   }
  },
  {
   "cell_type": "markdown",
   "source": [
    "In this lab, we will be using NumPy to manipulate arrays and datasets, the [Matplotlib](https://matplotlib.org/) plotting utilities to do some useful graphs, and also make some fun probabilistic explorations.\n",
    "\n",
    "Throughout the lab, there are a number of required tasks, each labelled as **Task X**. Your goal for this lab is to complete these sections and then upload the completed notebook to Blackboard before the due date.\n",
    "\n",
    "Please ensure that the following libraries are installed: numpy, matplotlib, seaborn, scikit-learn "
   ],
   "metadata": {
    "colab_type": "text",
    "id": "UOBc2GUmCLib"
   }
  },
  {
   "cell_type": "markdown",
   "source": [
    "## A. Arrays "
   ],
   "metadata": {
    "colab_type": "text",
    "id": "C_UaVDtUCLii"
   }
  },
  {
   "cell_type": "markdown",
   "source": [
    "Arrays will form an important part of machine learning in Python, as most of the machine learning methods will learn from data presented in arrays. Array manipulation is similar to that of list manipulation that we covered in Lab 1. For a start, import numpy:"
   ],
   "metadata": {
    "colab_type": "text",
    "id": "Y29s0V3dCLip"
   }
  },
  {
   "cell_type": "code",
   "execution_count": 9,
   "source": [
    "import numpy as np ## the \"as np\" allows us to refer to the library through the short name 'np' rather than 'numpy'"
   ],
   "outputs": [],
   "metadata": {
    "colab": {},
    "colab_type": "code",
    "id": "2fUP1w5YCLiu"
   }
  },
  {
   "cell_type": "markdown",
   "source": [
    "Now we define a array \"v\":"
   ],
   "metadata": {
    "colab_type": "text",
    "id": "OaVTRbbBCLi_"
   }
  },
  {
   "cell_type": "code",
   "execution_count": 10,
   "source": [
    "v = np.array([1,2,-1,-1])"
   ],
   "outputs": [],
   "metadata": {
    "colab": {},
    "colab_type": "code",
    "id": "JUVXUe0eCLjA"
   }
  },
  {
   "cell_type": "markdown",
   "source": [
    "We can access array elements by their indeces, just like using a Python List:"
   ],
   "metadata": {
    "colab_type": "text",
    "id": "d5Xaw9XUCLjH"
   }
  },
  {
   "cell_type": "code",
   "execution_count": 11,
   "source": [
    "v[1]         # 2nd element"
   ],
   "outputs": [
    {
     "output_type": "execute_result",
     "data": {
      "text/plain": [
       "2"
      ]
     },
     "metadata": {},
     "execution_count": 11
    }
   ],
   "metadata": {
    "colab": {},
    "colab_type": "code",
    "id": "eoQPOT26CLjI"
   }
  },
  {
   "cell_type": "code",
   "execution_count": 12,
   "source": [
    "v[-1]        # last element, same as in standard Python"
   ],
   "outputs": [
    {
     "output_type": "execute_result",
     "data": {
      "text/plain": [
       "-1"
      ]
     },
     "metadata": {},
     "execution_count": 12
    }
   ],
   "metadata": {
    "colab": {},
    "colab_type": "code",
    "id": "DW-NntB4CLjM"
   }
  },
  {
   "cell_type": "markdown",
   "source": [
    "Some simple operations on the array are straightforward:"
   ],
   "metadata": {
    "colab_type": "text",
    "id": "pY-nojlACLjR"
   }
  },
  {
   "cell_type": "code",
   "execution_count": 13,
   "source": [
    "np.sum(v)"
   ],
   "outputs": [
    {
     "output_type": "execute_result",
     "data": {
      "text/plain": [
       "1"
      ]
     },
     "metadata": {},
     "execution_count": 13
    }
   ],
   "metadata": {
    "colab": {},
    "colab_type": "code",
    "id": "VPAQeO_GCLjS"
   }
  },
  {
   "cell_type": "code",
   "execution_count": 14,
   "source": [
    "v + 2"
   ],
   "outputs": [
    {
     "output_type": "execute_result",
     "data": {
      "text/plain": [
       "array([3, 4, 1, 1])"
      ]
     },
     "metadata": {},
     "execution_count": 14
    }
   ],
   "metadata": {
    "colab": {},
    "colab_type": "code",
    "id": "q3_3YnM8CLjZ"
   }
  },
  {
   "cell_type": "code",
   "execution_count": 15,
   "source": [
    "v * 2"
   ],
   "outputs": [
    {
     "output_type": "execute_result",
     "data": {
      "text/plain": [
       "array([ 2,  4, -2, -2])"
      ]
     },
     "metadata": {},
     "execution_count": 15
    }
   ],
   "metadata": {
    "colab": {},
    "colab_type": "code",
    "id": "EXpNVJgdCLjd"
   }
  },
  {
   "cell_type": "markdown",
   "source": [
    "As you see the manipulation of arrays is quite easy in NumPy. \n",
    "How about this multiplication operation between v and a new array x:"
   ],
   "metadata": {
    "colab_type": "text",
    "id": "Uw4S0UepCLkK"
   }
  },
  {
   "cell_type": "code",
   "execution_count": 16,
   "source": [
    "x = np.array([1,1,-1,-1])"
   ],
   "outputs": [],
   "metadata": {
    "colab": {},
    "colab_type": "code",
    "id": "27KQDHpNCLkN"
   }
  },
  {
   "cell_type": "code",
   "execution_count": 17,
   "source": [
    "x * v      #element-wise product"
   ],
   "outputs": [
    {
     "output_type": "execute_result",
     "data": {
      "text/plain": [
       "array([1, 2, 1, 1])"
      ]
     },
     "metadata": {},
     "execution_count": 17
    }
   ],
   "metadata": {
    "colab": {},
    "colab_type": "code",
    "id": "KdN6K1acCLkT"
   }
  },
  {
   "cell_type": "markdown",
   "source": [
    "and of course, we can chain these operations together:"
   ],
   "metadata": {
    "colab_type": "text",
    "id": "iDrpsbooCLkX"
   }
  },
  {
   "cell_type": "code",
   "execution_count": 18,
   "source": [
    "np.sum(x * v)      "
   ],
   "outputs": [
    {
     "output_type": "execute_result",
     "data": {
      "text/plain": [
       "5"
      ]
     },
     "metadata": {},
     "execution_count": 18
    }
   ],
   "metadata": {
    "colab": {},
    "colab_type": "code",
    "id": "foWgNuNFCLkX"
   }
  },
  {
   "cell_type": "markdown",
   "source": [
    "Indeed, the last operation gives us the _dot product_ of the two vectors $\\mathbf{x}$ and $\\mathbf{v}$, i.e., $\\mathbf{x}^T\\mathbf{v}$.  This is such a common operator in many processes that in NumPy, this is implemented by the dedicated dot() function (see if it gives the same outcome as above):"
   ],
   "metadata": {
    "colab_type": "text",
    "id": "c2N0gcVqCLkZ"
   }
  },
  {
   "cell_type": "code",
   "execution_count": 19,
   "source": [
    "np.dot(x,v)"
   ],
   "outputs": [
    {
     "output_type": "execute_result",
     "data": {
      "text/plain": [
       "5"
      ]
     },
     "metadata": {},
     "execution_count": 19
    }
   ],
   "metadata": {
    "colab": {},
    "colab_type": "code",
    "id": "6d8Lx9imCLkd"
   }
  },
  {
   "cell_type": "markdown",
   "source": [
    "Next, let us generate a 2D array (with 2 rows x 3 colums) using a random number generator and try out some simple operations:"
   ],
   "metadata": {
    "colab_type": "text",
    "id": "IAEKVAklCLkf"
   }
  },
  {
   "cell_type": "code",
   "execution_count": 20,
   "source": [
    "a = np.random.default_rng().random((2,3))"
   ],
   "outputs": [],
   "metadata": {
    "colab": {},
    "colab_type": "code",
    "id": "C9_CsldHCLkh"
   }
  },
  {
   "cell_type": "code",
   "execution_count": 21,
   "source": [
    "print(a)       # check out the content of \"a\""
   ],
   "outputs": [
    {
     "output_type": "stream",
     "name": "stdout",
     "text": [
      "[[0.57783506 0.62631762 0.96357417]\n",
      " [0.93996803 0.90291407 0.46143839]]\n"
     ]
    }
   ],
   "metadata": {
    "colab": {},
    "colab_type": "code",
    "id": "smMcI1yqCLkm"
   }
  },
  {
   "cell_type": "markdown",
   "source": [
    "If you've been given an array, and need to know its dimensions, you can find these out through the array's shape property:"
   ],
   "metadata": {}
  },
  {
   "cell_type": "code",
   "execution_count": 22,
   "source": [
    "print(a.shape)"
   ],
   "outputs": [
    {
     "output_type": "stream",
     "name": "stdout",
     "text": [
      "(2, 3)\n"
     ]
    }
   ],
   "metadata": {}
  },
  {
   "cell_type": "markdown",
   "source": [
    "Simple operations such as +,-,*,/ can be easily carrried out across all elements, e.g."
   ],
   "metadata": {
    "colab_type": "text",
    "id": "24EeR8PzCLko"
   }
  },
  {
   "cell_type": "code",
   "execution_count": 23,
   "source": [
    "print(a + 5)"
   ],
   "outputs": [
    {
     "output_type": "stream",
     "name": "stdout",
     "text": [
      "[[5.57783506 5.62631762 5.96357417]\n",
      " [5.93996803 5.90291407 5.46143839]]\n"
     ]
    }
   ],
   "metadata": {
    "colab": {},
    "colab_type": "code",
    "id": "89F3b2PzCLkp"
   }
  },
  {
   "cell_type": "markdown",
   "source": [
    "Now that we have a 2-D array, we can do operation on one axis or the other, e.g., a vertical addition:"
   ],
   "metadata": {
    "colab_type": "text",
    "id": "vtwtEHxACLku"
   }
  },
  {
   "cell_type": "code",
   "execution_count": 24,
   "source": [
    "print(np.sum(a, axis=0))"
   ],
   "outputs": [
    {
     "output_type": "stream",
     "name": "stdout",
     "text": [
      "[1.51780309 1.5292317  1.42501257]\n"
     ]
    }
   ],
   "metadata": {
    "colab": {},
    "colab_type": "code",
    "id": "4oP1O2A6CLkz"
   }
  },
  {
   "cell_type": "markdown",
   "source": [
    "and a horizontal addition (column-wise):"
   ],
   "metadata": {
    "colab_type": "text",
    "id": "Mzmy9s-6CLlM"
   }
  },
  {
   "cell_type": "code",
   "execution_count": 25,
   "source": [
    "print(np.sum(a, axis=1))"
   ],
   "outputs": [
    {
     "output_type": "stream",
     "name": "stdout",
     "text": [
      "[2.16772685 2.3043205 ]\n"
     ]
    }
   ],
   "metadata": {
    "colab": {},
    "colab_type": "code",
    "id": "RIde1DCxCLlP"
   }
  },
  {
   "cell_type": "markdown",
   "source": [
    "How do we access rows or columns of an 2-D array? Try these -"
   ],
   "metadata": {
    "colab_type": "text",
    "id": "AvkdpFTzCLlZ"
   }
  },
  {
   "cell_type": "code",
   "execution_count": 26,
   "source": [
    "# first row, or simply \"a[0]\"\"\n",
    "print(a[0,:])"
   ],
   "outputs": [
    {
     "output_type": "stream",
     "name": "stdout",
     "text": [
      "[0.57783506 0.62631762 0.96357417]\n"
     ]
    }
   ],
   "metadata": {
    "colab": {},
    "colab_type": "code",
    "id": "uF9r53ZJCLlc"
   }
  },
  {
   "cell_type": "code",
   "execution_count": 27,
   "source": [
    "# first column\n",
    "print(a[:,0])"
   ],
   "outputs": [
    {
     "output_type": "stream",
     "name": "stdout",
     "text": [
      "[0.57783506 0.93996803]\n"
     ]
    }
   ],
   "metadata": {
    "colab": {},
    "colab_type": "code",
    "id": "SDTtehd1CLlg"
   }
  },
  {
   "cell_type": "code",
   "execution_count": 28,
   "source": [
    "# mean value of the first column\n",
    "print(np.mean(a[:,0]))"
   ],
   "outputs": [
    {
     "output_type": "stream",
     "name": "stdout",
     "text": [
      "0.7589015429430397\n"
     ]
    }
   ],
   "metadata": {}
  },
  {
   "cell_type": "markdown",
   "source": [
    "**Task 1.** Find out what numpy's [hstack()](https://docs.scipy.org/doc/numpy/reference/generated/numpy.hstack.html#numpy.hstack), \n",
    "[vstack()](https://numpy.org/doc/stable/reference/generated/numpy.vstack.html) \n",
    "or [c_[]](https://numpy.org/doc/stable/reference/generated/numpy.c_.html) does. Put variable a's 1st and 3rd columns into a new 2-D array:"
   ],
   "metadata": {
    "colab_type": "text",
    "id": "c2XwGu6yCLlq"
   }
  },
  {
   "cell_type": "code",
   "execution_count": 29,
   "source": [
    "np.vstack((a[:, 0], a[:, 2]))\n"
   ],
   "outputs": [
    {
     "output_type": "execute_result",
     "data": {
      "text/plain": [
       "array([[0.57783506, 0.93996803],\n",
       "       [0.96357417, 0.46143839]])"
      ]
     },
     "metadata": {},
     "execution_count": 29
    }
   ],
   "metadata": {
    "colab": {},
    "colab_type": "code",
    "id": "eT9T5m3wCLlu"
   }
  },
  {
   "cell_type": "markdown",
   "source": [
    "## B. Dealing with datasets"
   ],
   "metadata": {
    "colab_type": "text",
    "id": "bW1yu1OMCLnX"
   }
  },
  {
   "cell_type": "markdown",
   "source": [
    "Now we are ready to play with a dataset and put our array manipulation skills into good use. First, we load in a Scikit-Learn dataset adapted from the UCI boston data. This dataset has the average property information per town for the Boston region in US. "
   ],
   "metadata": {
    "colab_type": "text",
    "id": "78mGjVkPCLnY"
   }
  },
  {
   "cell_type": "code",
   "execution_count": 30,
   "source": [
    "from sklearn import datasets\n",
    "boston = datasets.load_boston()"
   ],
   "outputs": [],
   "metadata": {
    "colab": {},
    "colab_type": "code",
    "id": "SmVORGWHCLnY"
   }
  },
  {
   "cell_type": "markdown",
   "source": [
    "We can check out some information about the dataset:"
   ],
   "metadata": {
    "colab_type": "text",
    "id": "A-8a78F-CLne"
   }
  },
  {
   "cell_type": "code",
   "execution_count": 31,
   "source": [
    "print(\"Keys of boston_dataset: {}\".format(boston.keys()))\n",
    "print(\"Feature names: {}\".format(boston.feature_names))\n",
    "print(\"Shape of data: {}\".format(boston.data.shape))"
   ],
   "outputs": [
    {
     "output_type": "stream",
     "name": "stdout",
     "text": [
      "Keys of boston_dataset: dict_keys(['data', 'target', 'feature_names', 'DESCR', 'filename'])\n",
      "Feature names: ['CRIM' 'ZN' 'INDUS' 'CHAS' 'NOX' 'RM' 'AGE' 'DIS' 'RAD' 'TAX' 'PTRATIO'\n",
      " 'B' 'LSTAT']\n",
      "Shape of data: (506, 13)\n"
     ]
    }
   ],
   "metadata": {
    "colab": {},
    "colab_type": "code",
    "id": "uzAM0wPiCLnh"
   }
  },
  {
   "cell_type": "markdown",
   "source": [
    "We now extract the data and target separately and assign them to \"X\" and \"y\". This X-y notation is frequently encountered in machine learning and will be adopted for most of our future labs. "
   ],
   "metadata": {
    "colab_type": "text",
    "id": "JntK_93bCLn-"
   }
  },
  {
   "cell_type": "code",
   "execution_count": 32,
   "source": [
    "X = boston.data\n",
    "y = boston.target"
   ],
   "outputs": [],
   "metadata": {
    "colab": {},
    "colab_type": "code",
    "id": "6hrvFoBuCLn_"
   }
  },
  {
   "cell_type": "code",
   "execution_count": 33,
   "source": [
    "# check out the shapes - see if they match with the dataset report above. \n",
    "X.shape, y.shape"
   ],
   "outputs": [
    {
     "output_type": "execute_result",
     "data": {
      "text/plain": [
       "((506, 13), (506,))"
      ]
     },
     "metadata": {},
     "execution_count": 33
    }
   ],
   "metadata": {
    "colab": {},
    "colab_type": "code",
    "id": "RNf2T3pSCLoH"
   }
  },
  {
   "cell_type": "markdown",
   "source": [
    "The 'feature_names' information extracted from the dataset does not seem to be very informative, even though we may be able to guess out the meaning of a few attributes. You can find more description of the dataset [here](https://stat.ethz.ch/R-manual/R-devel/library/MASS/html/Boston.html). Note our target value is \"MEDV\". \n",
    "\n",
    "A popular way of handling datasets is using Pandas' DataFrame. The following code imports the pandas package and generate a DataFrame from the data we've got - note we use Numpy's \"c_[]\" utility to attach the target labels to the feature data X, merging them into one spreadsheet:"
   ],
   "metadata": {
    "colab_type": "text",
    "id": "4gFVv6V3CLoV"
   }
  },
  {
   "cell_type": "code",
   "execution_count": 34,
   "source": [
    "import pandas as pd\n",
    "df = pd.DataFrame(data=np.c_[X, y], columns= boston.feature_names.tolist() + ['MEDV'])"
   ],
   "outputs": [],
   "metadata": {
    "colab": {},
    "colab_type": "code",
    "id": "wiw5eZDBCLoX"
   }
  },
  {
   "cell_type": "markdown",
   "source": [
    "Now, let's take a look of the head of the dataframe - it's nicely (re)presented:"
   ],
   "metadata": {
    "colab_type": "text",
    "id": "1GT-02yBCLol"
   }
  },
  {
   "cell_type": "code",
   "execution_count": 35,
   "source": [
    "df.head()"
   ],
   "outputs": [
    {
     "output_type": "execute_result",
     "data": {
      "text/plain": [
       "      CRIM    ZN  INDUS  CHAS    NOX     RM   AGE     DIS  RAD    TAX  \\\n",
       "0  0.00632  18.0   2.31   0.0  0.538  6.575  65.2  4.0900  1.0  296.0   \n",
       "1  0.02731   0.0   7.07   0.0  0.469  6.421  78.9  4.9671  2.0  242.0   \n",
       "2  0.02729   0.0   7.07   0.0  0.469  7.185  61.1  4.9671  2.0  242.0   \n",
       "3  0.03237   0.0   2.18   0.0  0.458  6.998  45.8  6.0622  3.0  222.0   \n",
       "4  0.06905   0.0   2.18   0.0  0.458  7.147  54.2  6.0622  3.0  222.0   \n",
       "\n",
       "   PTRATIO       B  LSTAT  MEDV  \n",
       "0     15.3  396.90   4.98  24.0  \n",
       "1     17.8  396.90   9.14  21.6  \n",
       "2     17.8  392.83   4.03  34.7  \n",
       "3     18.7  394.63   2.94  33.4  \n",
       "4     18.7  396.90   5.33  36.2  "
      ],
      "text/html": [
       "<div>\n",
       "<style scoped>\n",
       "    .dataframe tbody tr th:only-of-type {\n",
       "        vertical-align: middle;\n",
       "    }\n",
       "\n",
       "    .dataframe tbody tr th {\n",
       "        vertical-align: top;\n",
       "    }\n",
       "\n",
       "    .dataframe thead th {\n",
       "        text-align: right;\n",
       "    }\n",
       "</style>\n",
       "<table border=\"1\" class=\"dataframe\">\n",
       "  <thead>\n",
       "    <tr style=\"text-align: right;\">\n",
       "      <th></th>\n",
       "      <th>CRIM</th>\n",
       "      <th>ZN</th>\n",
       "      <th>INDUS</th>\n",
       "      <th>CHAS</th>\n",
       "      <th>NOX</th>\n",
       "      <th>RM</th>\n",
       "      <th>AGE</th>\n",
       "      <th>DIS</th>\n",
       "      <th>RAD</th>\n",
       "      <th>TAX</th>\n",
       "      <th>PTRATIO</th>\n",
       "      <th>B</th>\n",
       "      <th>LSTAT</th>\n",
       "      <th>MEDV</th>\n",
       "    </tr>\n",
       "  </thead>\n",
       "  <tbody>\n",
       "    <tr>\n",
       "      <th>0</th>\n",
       "      <td>0.00632</td>\n",
       "      <td>18.0</td>\n",
       "      <td>2.31</td>\n",
       "      <td>0.0</td>\n",
       "      <td>0.538</td>\n",
       "      <td>6.575</td>\n",
       "      <td>65.2</td>\n",
       "      <td>4.0900</td>\n",
       "      <td>1.0</td>\n",
       "      <td>296.0</td>\n",
       "      <td>15.3</td>\n",
       "      <td>396.90</td>\n",
       "      <td>4.98</td>\n",
       "      <td>24.0</td>\n",
       "    </tr>\n",
       "    <tr>\n",
       "      <th>1</th>\n",
       "      <td>0.02731</td>\n",
       "      <td>0.0</td>\n",
       "      <td>7.07</td>\n",
       "      <td>0.0</td>\n",
       "      <td>0.469</td>\n",
       "      <td>6.421</td>\n",
       "      <td>78.9</td>\n",
       "      <td>4.9671</td>\n",
       "      <td>2.0</td>\n",
       "      <td>242.0</td>\n",
       "      <td>17.8</td>\n",
       "      <td>396.90</td>\n",
       "      <td>9.14</td>\n",
       "      <td>21.6</td>\n",
       "    </tr>\n",
       "    <tr>\n",
       "      <th>2</th>\n",
       "      <td>0.02729</td>\n",
       "      <td>0.0</td>\n",
       "      <td>7.07</td>\n",
       "      <td>0.0</td>\n",
       "      <td>0.469</td>\n",
       "      <td>7.185</td>\n",
       "      <td>61.1</td>\n",
       "      <td>4.9671</td>\n",
       "      <td>2.0</td>\n",
       "      <td>242.0</td>\n",
       "      <td>17.8</td>\n",
       "      <td>392.83</td>\n",
       "      <td>4.03</td>\n",
       "      <td>34.7</td>\n",
       "    </tr>\n",
       "    <tr>\n",
       "      <th>3</th>\n",
       "      <td>0.03237</td>\n",
       "      <td>0.0</td>\n",
       "      <td>2.18</td>\n",
       "      <td>0.0</td>\n",
       "      <td>0.458</td>\n",
       "      <td>6.998</td>\n",
       "      <td>45.8</td>\n",
       "      <td>6.0622</td>\n",
       "      <td>3.0</td>\n",
       "      <td>222.0</td>\n",
       "      <td>18.7</td>\n",
       "      <td>394.63</td>\n",
       "      <td>2.94</td>\n",
       "      <td>33.4</td>\n",
       "    </tr>\n",
       "    <tr>\n",
       "      <th>4</th>\n",
       "      <td>0.06905</td>\n",
       "      <td>0.0</td>\n",
       "      <td>2.18</td>\n",
       "      <td>0.0</td>\n",
       "      <td>0.458</td>\n",
       "      <td>7.147</td>\n",
       "      <td>54.2</td>\n",
       "      <td>6.0622</td>\n",
       "      <td>3.0</td>\n",
       "      <td>222.0</td>\n",
       "      <td>18.7</td>\n",
       "      <td>396.90</td>\n",
       "      <td>5.33</td>\n",
       "      <td>36.2</td>\n",
       "    </tr>\n",
       "  </tbody>\n",
       "</table>\n",
       "</div>"
      ]
     },
     "metadata": {},
     "execution_count": 35
    }
   ],
   "metadata": {
    "colab": {},
    "colab_type": "code",
    "id": "BxwnxNLPCLor"
   }
  },
  {
   "cell_type": "markdown",
   "source": [
    "To locate data in a data frame, use row and column information:"
   ],
   "metadata": {
    "colab_type": "text",
    "id": "4kGYMEyGCLou"
   }
  },
  {
   "cell_type": "code",
   "execution_count": 36,
   "source": [
    "df.iloc[2]['AGE']"
   ],
   "outputs": [
    {
     "output_type": "execute_result",
     "data": {
      "text/plain": [
       "61.1"
      ]
     },
     "metadata": {},
     "execution_count": 36
    }
   ],
   "metadata": {
    "colab": {},
    "colab_type": "code",
    "id": "-aP--P4zCLoy"
   }
  },
  {
   "cell_type": "markdown",
   "source": [
    "Or, extract an attribute's values for a row range, as an array - compare the output with the dataframe head displayed above - note the use of *.values*:"
   ],
   "metadata": {
    "colab_type": "text",
    "id": "0Kxwg6LHCLo1"
   }
  },
  {
   "cell_type": "code",
   "execution_count": 37,
   "source": [
    "print(df.iloc[1:4]['AGE'].values)"
   ],
   "outputs": [
    {
     "output_type": "stream",
     "name": "stdout",
     "text": [
      "[78.9 61.1 45.8]\n"
     ]
    }
   ],
   "metadata": {
    "colab": {},
    "colab_type": "code",
    "id": "p8t3J9WmCLo2"
   }
  },
  {
   "cell_type": "markdown",
   "source": [
    "You can issue queries on the dataframe, e.g., finding all entries with an AGE value not greater than 10:"
   ],
   "metadata": {
    "colab_type": "text",
    "id": "1LIZtbYOCLpH"
   }
  },
  {
   "cell_type": "code",
   "execution_count": 38,
   "source": [
    "df[df[\"AGE\"] <= 10.0]"
   ],
   "outputs": [
    {
     "output_type": "execute_result",
     "data": {
      "text/plain": [
       "        CRIM    ZN  INDUS  CHAS    NOX     RM   AGE     DIS  RAD    TAX  \\\n",
       "41   0.12744   0.0   6.91   0.0  0.448  6.770   2.9  5.7209  3.0  233.0   \n",
       "42   0.14150   0.0   6.91   0.0  0.448  6.169   6.6  5.7209  3.0  233.0   \n",
       "43   0.15936   0.0   6.91   0.0  0.448  6.211   6.5  5.7209  3.0  233.0   \n",
       "70   0.08826   0.0  10.81   0.0  0.413  6.417   6.6  5.2873  4.0  305.0   \n",
       "72   0.09164   0.0  10.81   0.0  0.413  6.065   7.8  5.2873  4.0  305.0   \n",
       "73   0.19539   0.0  10.81   0.0  0.413  6.245   6.2  5.2873  4.0  305.0   \n",
       "74   0.07896   0.0  12.83   0.0  0.437  6.273   6.0  4.2515  5.0  398.0   \n",
       "193  0.02187  60.0   2.93   0.0  0.401  6.800   9.9  6.2196  1.0  265.0   \n",
       "214  0.28955   0.0  10.59   0.0  0.489  5.412   9.8  3.5875  4.0  277.0   \n",
       "243  0.12757  30.0   4.93   0.0  0.428  6.393   7.8  7.0355  6.0  300.0   \n",
       "251  0.21409  22.0   5.86   0.0  0.431  6.438   8.9  7.3967  7.0  330.0   \n",
       "252  0.08221  22.0   5.86   0.0  0.431  6.957   6.8  8.9067  7.0  330.0   \n",
       "253  0.36894  22.0   5.86   0.0  0.431  8.259   8.4  8.9067  7.0  330.0   \n",
       "299  0.05561  70.0   2.24   0.0  0.400  7.041  10.0  7.8278  5.0  358.0   \n",
       "\n",
       "     PTRATIO       B  LSTAT  MEDV  \n",
       "41      17.9  385.41   4.84  26.6  \n",
       "42      17.9  383.37   5.81  25.3  \n",
       "43      17.9  394.46   7.44  24.7  \n",
       "70      19.2  383.73   6.72  24.2  \n",
       "72      19.2  390.91   5.52  22.8  \n",
       "73      19.2  377.17   7.54  23.4  \n",
       "74      18.7  394.92   6.78  24.1  \n",
       "193     15.6  393.37   5.03  31.1  \n",
       "214     18.6  348.93  29.55  23.7  \n",
       "243     16.6  374.71   5.19  23.7  \n",
       "251     19.1  377.07   3.59  24.8  \n",
       "252     19.1  386.09   3.53  29.6  \n",
       "253     19.1  396.90   3.54  42.8  \n",
       "299     14.8  371.58   4.74  29.0  "
      ],
      "text/html": [
       "<div>\n",
       "<style scoped>\n",
       "    .dataframe tbody tr th:only-of-type {\n",
       "        vertical-align: middle;\n",
       "    }\n",
       "\n",
       "    .dataframe tbody tr th {\n",
       "        vertical-align: top;\n",
       "    }\n",
       "\n",
       "    .dataframe thead th {\n",
       "        text-align: right;\n",
       "    }\n",
       "</style>\n",
       "<table border=\"1\" class=\"dataframe\">\n",
       "  <thead>\n",
       "    <tr style=\"text-align: right;\">\n",
       "      <th></th>\n",
       "      <th>CRIM</th>\n",
       "      <th>ZN</th>\n",
       "      <th>INDUS</th>\n",
       "      <th>CHAS</th>\n",
       "      <th>NOX</th>\n",
       "      <th>RM</th>\n",
       "      <th>AGE</th>\n",
       "      <th>DIS</th>\n",
       "      <th>RAD</th>\n",
       "      <th>TAX</th>\n",
       "      <th>PTRATIO</th>\n",
       "      <th>B</th>\n",
       "      <th>LSTAT</th>\n",
       "      <th>MEDV</th>\n",
       "    </tr>\n",
       "  </thead>\n",
       "  <tbody>\n",
       "    <tr>\n",
       "      <th>41</th>\n",
       "      <td>0.12744</td>\n",
       "      <td>0.0</td>\n",
       "      <td>6.91</td>\n",
       "      <td>0.0</td>\n",
       "      <td>0.448</td>\n",
       "      <td>6.770</td>\n",
       "      <td>2.9</td>\n",
       "      <td>5.7209</td>\n",
       "      <td>3.0</td>\n",
       "      <td>233.0</td>\n",
       "      <td>17.9</td>\n",
       "      <td>385.41</td>\n",
       "      <td>4.84</td>\n",
       "      <td>26.6</td>\n",
       "    </tr>\n",
       "    <tr>\n",
       "      <th>42</th>\n",
       "      <td>0.14150</td>\n",
       "      <td>0.0</td>\n",
       "      <td>6.91</td>\n",
       "      <td>0.0</td>\n",
       "      <td>0.448</td>\n",
       "      <td>6.169</td>\n",
       "      <td>6.6</td>\n",
       "      <td>5.7209</td>\n",
       "      <td>3.0</td>\n",
       "      <td>233.0</td>\n",
       "      <td>17.9</td>\n",
       "      <td>383.37</td>\n",
       "      <td>5.81</td>\n",
       "      <td>25.3</td>\n",
       "    </tr>\n",
       "    <tr>\n",
       "      <th>43</th>\n",
       "      <td>0.15936</td>\n",
       "      <td>0.0</td>\n",
       "      <td>6.91</td>\n",
       "      <td>0.0</td>\n",
       "      <td>0.448</td>\n",
       "      <td>6.211</td>\n",
       "      <td>6.5</td>\n",
       "      <td>5.7209</td>\n",
       "      <td>3.0</td>\n",
       "      <td>233.0</td>\n",
       "      <td>17.9</td>\n",
       "      <td>394.46</td>\n",
       "      <td>7.44</td>\n",
       "      <td>24.7</td>\n",
       "    </tr>\n",
       "    <tr>\n",
       "      <th>70</th>\n",
       "      <td>0.08826</td>\n",
       "      <td>0.0</td>\n",
       "      <td>10.81</td>\n",
       "      <td>0.0</td>\n",
       "      <td>0.413</td>\n",
       "      <td>6.417</td>\n",
       "      <td>6.6</td>\n",
       "      <td>5.2873</td>\n",
       "      <td>4.0</td>\n",
       "      <td>305.0</td>\n",
       "      <td>19.2</td>\n",
       "      <td>383.73</td>\n",
       "      <td>6.72</td>\n",
       "      <td>24.2</td>\n",
       "    </tr>\n",
       "    <tr>\n",
       "      <th>72</th>\n",
       "      <td>0.09164</td>\n",
       "      <td>0.0</td>\n",
       "      <td>10.81</td>\n",
       "      <td>0.0</td>\n",
       "      <td>0.413</td>\n",
       "      <td>6.065</td>\n",
       "      <td>7.8</td>\n",
       "      <td>5.2873</td>\n",
       "      <td>4.0</td>\n",
       "      <td>305.0</td>\n",
       "      <td>19.2</td>\n",
       "      <td>390.91</td>\n",
       "      <td>5.52</td>\n",
       "      <td>22.8</td>\n",
       "    </tr>\n",
       "    <tr>\n",
       "      <th>73</th>\n",
       "      <td>0.19539</td>\n",
       "      <td>0.0</td>\n",
       "      <td>10.81</td>\n",
       "      <td>0.0</td>\n",
       "      <td>0.413</td>\n",
       "      <td>6.245</td>\n",
       "      <td>6.2</td>\n",
       "      <td>5.2873</td>\n",
       "      <td>4.0</td>\n",
       "      <td>305.0</td>\n",
       "      <td>19.2</td>\n",
       "      <td>377.17</td>\n",
       "      <td>7.54</td>\n",
       "      <td>23.4</td>\n",
       "    </tr>\n",
       "    <tr>\n",
       "      <th>74</th>\n",
       "      <td>0.07896</td>\n",
       "      <td>0.0</td>\n",
       "      <td>12.83</td>\n",
       "      <td>0.0</td>\n",
       "      <td>0.437</td>\n",
       "      <td>6.273</td>\n",
       "      <td>6.0</td>\n",
       "      <td>4.2515</td>\n",
       "      <td>5.0</td>\n",
       "      <td>398.0</td>\n",
       "      <td>18.7</td>\n",
       "      <td>394.92</td>\n",
       "      <td>6.78</td>\n",
       "      <td>24.1</td>\n",
       "    </tr>\n",
       "    <tr>\n",
       "      <th>193</th>\n",
       "      <td>0.02187</td>\n",
       "      <td>60.0</td>\n",
       "      <td>2.93</td>\n",
       "      <td>0.0</td>\n",
       "      <td>0.401</td>\n",
       "      <td>6.800</td>\n",
       "      <td>9.9</td>\n",
       "      <td>6.2196</td>\n",
       "      <td>1.0</td>\n",
       "      <td>265.0</td>\n",
       "      <td>15.6</td>\n",
       "      <td>393.37</td>\n",
       "      <td>5.03</td>\n",
       "      <td>31.1</td>\n",
       "    </tr>\n",
       "    <tr>\n",
       "      <th>214</th>\n",
       "      <td>0.28955</td>\n",
       "      <td>0.0</td>\n",
       "      <td>10.59</td>\n",
       "      <td>0.0</td>\n",
       "      <td>0.489</td>\n",
       "      <td>5.412</td>\n",
       "      <td>9.8</td>\n",
       "      <td>3.5875</td>\n",
       "      <td>4.0</td>\n",
       "      <td>277.0</td>\n",
       "      <td>18.6</td>\n",
       "      <td>348.93</td>\n",
       "      <td>29.55</td>\n",
       "      <td>23.7</td>\n",
       "    </tr>\n",
       "    <tr>\n",
       "      <th>243</th>\n",
       "      <td>0.12757</td>\n",
       "      <td>30.0</td>\n",
       "      <td>4.93</td>\n",
       "      <td>0.0</td>\n",
       "      <td>0.428</td>\n",
       "      <td>6.393</td>\n",
       "      <td>7.8</td>\n",
       "      <td>7.0355</td>\n",
       "      <td>6.0</td>\n",
       "      <td>300.0</td>\n",
       "      <td>16.6</td>\n",
       "      <td>374.71</td>\n",
       "      <td>5.19</td>\n",
       "      <td>23.7</td>\n",
       "    </tr>\n",
       "    <tr>\n",
       "      <th>251</th>\n",
       "      <td>0.21409</td>\n",
       "      <td>22.0</td>\n",
       "      <td>5.86</td>\n",
       "      <td>0.0</td>\n",
       "      <td>0.431</td>\n",
       "      <td>6.438</td>\n",
       "      <td>8.9</td>\n",
       "      <td>7.3967</td>\n",
       "      <td>7.0</td>\n",
       "      <td>330.0</td>\n",
       "      <td>19.1</td>\n",
       "      <td>377.07</td>\n",
       "      <td>3.59</td>\n",
       "      <td>24.8</td>\n",
       "    </tr>\n",
       "    <tr>\n",
       "      <th>252</th>\n",
       "      <td>0.08221</td>\n",
       "      <td>22.0</td>\n",
       "      <td>5.86</td>\n",
       "      <td>0.0</td>\n",
       "      <td>0.431</td>\n",
       "      <td>6.957</td>\n",
       "      <td>6.8</td>\n",
       "      <td>8.9067</td>\n",
       "      <td>7.0</td>\n",
       "      <td>330.0</td>\n",
       "      <td>19.1</td>\n",
       "      <td>386.09</td>\n",
       "      <td>3.53</td>\n",
       "      <td>29.6</td>\n",
       "    </tr>\n",
       "    <tr>\n",
       "      <th>253</th>\n",
       "      <td>0.36894</td>\n",
       "      <td>22.0</td>\n",
       "      <td>5.86</td>\n",
       "      <td>0.0</td>\n",
       "      <td>0.431</td>\n",
       "      <td>8.259</td>\n",
       "      <td>8.4</td>\n",
       "      <td>8.9067</td>\n",
       "      <td>7.0</td>\n",
       "      <td>330.0</td>\n",
       "      <td>19.1</td>\n",
       "      <td>396.90</td>\n",
       "      <td>3.54</td>\n",
       "      <td>42.8</td>\n",
       "    </tr>\n",
       "    <tr>\n",
       "      <th>299</th>\n",
       "      <td>0.05561</td>\n",
       "      <td>70.0</td>\n",
       "      <td>2.24</td>\n",
       "      <td>0.0</td>\n",
       "      <td>0.400</td>\n",
       "      <td>7.041</td>\n",
       "      <td>10.0</td>\n",
       "      <td>7.8278</td>\n",
       "      <td>5.0</td>\n",
       "      <td>358.0</td>\n",
       "      <td>14.8</td>\n",
       "      <td>371.58</td>\n",
       "      <td>4.74</td>\n",
       "      <td>29.0</td>\n",
       "    </tr>\n",
       "  </tbody>\n",
       "</table>\n",
       "</div>"
      ]
     },
     "metadata": {},
     "execution_count": 38
    }
   ],
   "metadata": {
    "colab": {},
    "colab_type": "code",
    "id": "pMZtLawRCLpN"
   }
  },
  {
   "cell_type": "markdown",
   "source": [
    "**Task 2.** Find out the average MEDV value for all entries with at least 6.0 RM. "
   ],
   "metadata": {
    "colab_type": "text",
    "id": "ygxaXC0-CLpf"
   }
  },
  {
   "cell_type": "code",
   "execution_count": 39,
   "source": [
    "np.mean(df[df['MEDV'] >= 6.0])\n"
   ],
   "outputs": [
    {
     "output_type": "execute_result",
     "data": {
      "text/plain": [
       "CRIM         3.374004\n",
       "ZN          11.431412\n",
       "INDUS       11.095249\n",
       "CHAS         0.069583\n",
       "NOX          0.553870\n",
       "RM           6.288076\n",
       "AGE         68.387475\n",
       "DIS          3.808723\n",
       "RAD          9.463221\n",
       "TAX        406.699801\n",
       "PTRATIO     18.445129\n",
       "B          356.457833\n",
       "LSTAT       12.568807\n",
       "MEDV        22.636183\n",
       "dtype: float64"
      ]
     },
     "metadata": {},
     "execution_count": 39
    }
   ],
   "metadata": {
    "colab": {},
    "colab_type": "code",
    "id": "t6Myv9KqCLph"
   }
  },
  {
   "cell_type": "markdown",
   "source": [
    "## C. Plotting"
   ],
   "metadata": {
    "colab_type": "text",
    "id": "ksDw-lPjCLpx"
   }
  },
  {
   "cell_type": "markdown",
   "source": [
    "It's time for us to do some plotting. To do this we need to import the Matplotlib/pyplot package:"
   ],
   "metadata": {
    "colab_type": "text",
    "id": "dzAx_4sMCLpx"
   }
  },
  {
   "cell_type": "code",
   "execution_count": 40,
   "source": [
    "import matplotlib.pyplot as plt ## like with numpy, the 'as plt' provides us with the short alias for the library"
   ],
   "outputs": [],
   "metadata": {
    "colab": {},
    "colab_type": "code",
    "id": "fdlFXomWCLp2"
   }
  },
  {
   "cell_type": "markdown",
   "source": [
    "We can display the CRIM column as a sequence (i.e. crime rate across 500+ towns; this doesn't make much sense but serves an example):"
   ],
   "metadata": {
    "colab_type": "text",
    "id": "Y1dacMNrCLp4"
   }
  },
  {
   "cell_type": "code",
   "execution_count": 41,
   "source": [
    "plt.plot(df[\"CRIM\"]); ## note the semicolon at the end of the statement - it prevents the return value of the plot function from being printed (try removing it and see what happens)"
   ],
   "outputs": [
    {
     "output_type": "display_data",
     "data": {
      "text/plain": [
       "<Figure size 432x288 with 1 Axes>"
      ],
      "image/png": "[encoded data removed]"
     },
     "metadata": {
      "needs_background": "light"
     }
    }
   ],
   "metadata": {
    "colab": {},
    "colab_type": "code",
    "id": "V1DDVQ_tCLp5"
   }
  },
  {
   "cell_type": "markdown",
   "source": [
    "We can also choose two columns (i.e. attributes) and do a **scatter plot**. In this case we choose attributes 1 and 4, and plot the coordinates using a blue dot:"
   ],
   "metadata": {
    "colab_type": "text",
    "id": "ssj3u7bcCLp6"
   }
  },
  {
   "cell_type": "code",
   "execution_count": 42,
   "source": [
    "plt.plot(df[\"ZN\"], df[\"NOX\"], 'b.');"
   ],
   "outputs": [
    {
     "output_type": "display_data",
     "data": {
      "text/plain": [
       "<Figure size 432x288 with 1 Axes>"
      ],
      "image/png": "[encoded data removed]"
     },
     "metadata": {
      "needs_background": "light"
     }
    }
   ],
   "metadata": {
    "colab": {},
    "colab_type": "code",
    "id": "0rZd9WqiCLp7"
   }
  },
  {
   "cell_type": "markdown",
   "source": [
    "We can use the \"hist\" function to generate a histogram, e.g. of the target values. The number of bins is specified as 25, and with the \"density\" parameter set the histogram frequencies are normalized - the bar heights now add to 1. "
   ],
   "metadata": {
    "colab_type": "text",
    "id": "byrF2L1NCLp8"
   }
  },
  {
   "cell_type": "code",
   "execution_count": 43,
   "source": [
    "plt.hist(df[\"MEDV\"], bins=25, density=True);"
   ],
   "outputs": [
    {
     "output_type": "display_data",
     "data": {
      "text/plain": [
       "<Figure size 432x288 with 1 Axes>"
      ],
      "image/png": "[encoded data removed]"
     },
     "metadata": {
      "needs_background": "light"
     }
    }
   ],
   "metadata": {
    "colab": {},
    "colab_type": "code",
    "id": "PFWme5kECLp9"
   }
  },
  {
   "cell_type": "markdown",
   "source": [
    "Or use seaborn's \"displot\", with a smooth density estimation displayed:"
   ],
   "metadata": {
    "colab_type": "text",
    "id": "qirSsh1mCLp-"
   }
  },
  {
   "cell_type": "code",
   "execution_count": 44,
   "source": [
    "import seaborn as sb\n",
    "sb.displot(y, kde=True);"
   ],
   "outputs": [
    {
     "output_type": "display_data",
     "data": {
      "text/plain": [
       "<Figure size 360x360 with 1 Axes>"
      ],
      "image/png": "[encoded data removed]"
     },
     "metadata": {
      "needs_background": "light"
     }
    }
   ],
   "metadata": {
    "colab": {},
    "colab_type": "code",
    "id": "qIoF4Yj6CLp_"
   }
  },
  {
   "cell_type": "markdown",
   "source": [
    "**Task 3.** Plot the histogram for the \"DIS\" attribute values. "
   ],
   "metadata": {
    "colab_type": "text",
    "id": "7tPpdDx_CLqA"
   }
  },
  {
   "cell_type": "code",
   "execution_count": 52,
   "source": [
    "plt.hist(df[\"DIS\"]);\n",
    "sb.displot(df[\"DIS\"], kde=True);\n"
   ],
   "outputs": [
    {
     "output_type": "display_data",
     "data": {
      "text/plain": [
       "<Figure size 432x288 with 1 Axes>"
      ],
      "image/png": "[encoded data removed]"
     },
     "metadata": {
      "needs_background": "light"
     }
    },
    {
     "output_type": "display_data",
     "data": {
      "text/plain": [
       "<Figure size 360x360 with 1 Axes>"
      ],
      "image/png": "[encoded data removed]"
     },
     "metadata": {
      "needs_background": "light"
     }
    }
   ],
   "metadata": {
    "colab": {},
    "colab_type": "code",
    "id": "lCOgiXDsCLqA"
   }
  },
  {
   "cell_type": "markdown",
   "source": [
    "Seaborn can some other nice plots. E.g., here's the correlation matrix of all attributes (including target) shown as a heatmap:"
   ],
   "metadata": {
    "colab_type": "text",
    "id": "Y6jDnXYrCLqC"
   }
  },
  {
   "cell_type": "code",
   "execution_count": 46,
   "source": [
    "sb.heatmap(df.corr());"
   ],
   "outputs": [
    {
     "output_type": "display_data",
     "data": {
      "text/plain": [
       "<Figure size 432x288 with 2 Axes>"
      ],
      "image/png": "[encoded data removed]"
     },
     "metadata": {
      "needs_background": "light"
     }
    }
   ],
   "metadata": {
    "colab": {},
    "colab_type": "code",
    "id": "L_7rUi4BCLqC"
   }
  },
  {
   "cell_type": "markdown",
   "source": [
    "**Task 4.** From the correlation heatmap shown above, which attribute/feature has the largest correlation with the \"medv\" value (Tip: check colors on the last column)? Does it make sense? "
   ],
   "metadata": {
    "colab_type": "text",
    "id": "7K8sgsbgCLqE"
   }
  },
  {
   "cell_type": "markdown",
   "source": [
    "Your answer (click this cell and type in): \n",
    "\n",
    "- \n",
    "- "
   ],
   "metadata": {
    "colab_type": "text",
    "id": "nqcenG9mCLqF"
   }
  },
  {
   "cell_type": "markdown",
   "source": [
    "## D. Probabilistic expoloration\n",
    "\n",
    "The last part of the lab is related to the concept of probability and probability distributions. \n",
    "\n",
    "### Tom's Breakfast\n",
    "\n",
    "Tom has difficulty in deciding what to eat for breakfast each morning, so he decides to follow some *random* rules:\n",
    "1. If it's a fine day, he'll toss a \\\\$2 coin: heads for eggs, tails for muesli.\n",
    "2. otherwise, if it's a rainy day, he'll toss a \\\\$1 coin: head for eggs, tails for muesli.\n",
    "It turns out that neither the \\\\$2 or \\\\$1 coins are fair (i.e., the chance of a head does not equal the change of a tail). The probability of the \\\\$2 coin toss returning a head is 0.7, and the probability of a head from the \\\\$1 coin toss is 0.4.\n",
    "\n",
    "Assume that the probability of a fine day is 0.6\n",
    "\n",
    "Tom wants to know what is the probability that he'll have eggs on any given day - we could work this out analytically (and should find that the probability is 0.58), but Tom wants to estimate the probability through _simulation_. This can be done using a random number generator in the following manner:\n",
    "1. Start with an empty list\n",
    "2. Generate a random number between 0 and 1 - if the number is below 0.6 then the day is \"fine\"\n",
    "3. If the day is fine, then generate another random number between 0 and 1 - if the number is below 0.7 then append a 1 to the list, otherwise append a 0\n",
    "4. If the day is rainy, then generate another random number between 0 and 1 - if the number is below 0.4 then append a 1 to the list, otherwise append a 0\n",
    "5. Repeat steps 2-4 for a given number of days (e.g., 100)\n",
    "6. Compute the mean of the list\n",
    "\n",
    "In the above algorithm, appending a 1 to the list equates to \"eggs for breakfast\" and appending a 0 equates to \"muesli for breakfast\". Therefore, the mean of the list is an estimate of the probability of eggs for any given day.\n",
    "\n",
    "**Task 5.** Write a few Python lines that generates breakfast picks for Tom, over 100 days; count the number of eggs days. Do the same for 1000 days and then again for 10000 days.\n",
    "Tips: to make it simple, use an array (list) to store the choices, 1 for eggs, 0 for muesli. Also the NumPy [uniform()](https://numpy.org/doc/stable/reference/random/generated/numpy.random.Generator.uniform.html) function will be a huge help here!"
   ],
   "metadata": {
    "colab_type": "text",
    "id": "V1HMwozzCLqG"
   }
  },
  {
   "cell_type": "code",
   "execution_count": 53,
   "source": [
    "def calcProb(numDays):\n",
    "    probs = []\n",
    "    days = np.random.uniform(low = 0, high = 1, size=numDays)\n",
    "    for day in days:\n",
    "        \n",
    "        if day < 0.6:\n",
    "         \n",
    "            p = np.random.uniform(0, 1)\n",
    "         \n",
    "            if p < 0.7:\n",
    "        \n",
    "                probs.append(1)\n",
    "            else:\n",
    "                probs.append(0)\n",
    "        else:\n",
    "            p  = np.random.uniform(0, 1)\n",
    "            if p < 0.4:\n",
    "                probs.append(1)\n",
    "            else:\n",
    "                probs.append(0)\n",
    "    return np.array(probs)\n",
    "\n",
    "# 100 days\n",
    "oneHundredDays = calcProb(100)\n",
    "print(np.sum(oneHundredDays))\n",
    "\n",
    "# 1000 days\n",
    "oneThousandDays = calcProb(1000)\n",
    "print(np.sum(oneThousandDays))\n",
    "\n",
    "# 10000 days\n",
    "tenThousandDays = calcProb(10000)\n",
    "print(np.sum(tenThousandDays))\n"
   ],
   "outputs": [
    {
     "output_type": "error",
     "ename": "NameError",
     "evalue": "name 'props' is not defined",
     "traceback": [
      "\u001b[0;31m---------------------------------------------------------------------------\u001b[0m",
      "\u001b[0;31mNameError\u001b[0m                                 Traceback (most recent call last)",
      "\u001b[0;32m/var/folders/vn/h387nt2d49j2qsvtfbwlwbjh0000gn/T/ipykernel_20955/1222791645.py\u001b[0m in \u001b[0;36m<module>\u001b[0;34m\u001b[0m\n\u001b[1;32m     22\u001b[0m \u001b[0;34m\u001b[0m\u001b[0m\n\u001b[1;32m     23\u001b[0m \u001b[0;31m# 100 days\u001b[0m\u001b[0;34m\u001b[0m\u001b[0;34m\u001b[0m\u001b[0;34m\u001b[0m\u001b[0m\n\u001b[0;32m---> 24\u001b[0;31m \u001b[0moneHundredDays\u001b[0m \u001b[0;34m=\u001b[0m \u001b[0mcalcProb\u001b[0m\u001b[0;34m(\u001b[0m\u001b[0;36m100\u001b[0m\u001b[0;34m)\u001b[0m\u001b[0;34m\u001b[0m\u001b[0;34m\u001b[0m\u001b[0m\n\u001b[0m\u001b[1;32m     25\u001b[0m \u001b[0mprint\u001b[0m\u001b[0;34m(\u001b[0m\u001b[0mnp\u001b[0m\u001b[0;34m.\u001b[0m\u001b[0msum\u001b[0m\u001b[0;34m(\u001b[0m\u001b[0moneHundredDays\u001b[0m\u001b[0;34m)\u001b[0m\u001b[0;34m)\u001b[0m\u001b[0;34m\u001b[0m\u001b[0;34m\u001b[0m\u001b[0m\n\u001b[1;32m     26\u001b[0m \u001b[0;34m\u001b[0m\u001b[0m\n",
      "\u001b[0;32m/var/folders/vn/h387nt2d49j2qsvtfbwlwbjh0000gn/T/ipykernel_20955/1222791645.py\u001b[0m in \u001b[0;36mcalcProb\u001b[0;34m(numDays)\u001b[0m\n\u001b[1;32m     19\u001b[0m             \u001b[0;32melse\u001b[0m\u001b[0;34m:\u001b[0m\u001b[0;34m\u001b[0m\u001b[0;34m\u001b[0m\u001b[0m\n\u001b[1;32m     20\u001b[0m                 \u001b[0mprobs\u001b[0m\u001b[0;34m.\u001b[0m\u001b[0mappend\u001b[0m\u001b[0;34m(\u001b[0m\u001b[0;36m0\u001b[0m\u001b[0;34m)\u001b[0m\u001b[0;34m\u001b[0m\u001b[0;34m\u001b[0m\u001b[0m\n\u001b[0;32m---> 21\u001b[0;31m     \u001b[0;32mreturn\u001b[0m \u001b[0mnp\u001b[0m\u001b[0;34m.\u001b[0m\u001b[0marray\u001b[0m\u001b[0;34m(\u001b[0m\u001b[0mprops\u001b[0m\u001b[0;34m)\u001b[0m\u001b[0;34m\u001b[0m\u001b[0;34m\u001b[0m\u001b[0m\n\u001b[0m\u001b[1;32m     22\u001b[0m \u001b[0;34m\u001b[0m\u001b[0m\n\u001b[1;32m     23\u001b[0m \u001b[0;31m# 100 days\u001b[0m\u001b[0;34m\u001b[0m\u001b[0;34m\u001b[0m\u001b[0;34m\u001b[0m\u001b[0m\n",
      "\u001b[0;31mNameError\u001b[0m: name 'props' is not defined"
     ]
    }
   ],
   "metadata": {
    "colab": {},
    "colab_type": "code",
    "id": "taVrtWTXCLqG"
   }
  },
  {
   "cell_type": "markdown",
   "source": [
    "Run your code for a couple of times, and comment on your findings:\n",
    "\n",
    "When I run my code with a large smaple size (10000 days) the probaility of a given day being an egg day is very clode to 0.58."
   ],
   "metadata": {
    "colab_type": "text",
    "id": "sQgLmvJ6CLqJ"
   }
  },
  {
   "cell_type": "markdown",
   "source": [
    "### Central Limit Theorem\n",
    "If you have 4 rolls of a dice and get 1, 3, 2, 4, then the mean is $(1+3+2+4)/4=2.5$. How about we generate more rolls samples, and see how the sample means are distributed? \n",
    "\n",
    "**Task 6a.** Generate 1000 dice rolls. Find out the mean result. Hint: recall the [integers()](https://numpy.org/doc/stable/reference/random/generated/numpy.random.Generator.integers.html) function from the previous lab!"
   ],
   "metadata": {
    "colab_type": "text",
    "id": "BhMmVbrxCLqK"
   }
  },
  {
   "cell_type": "code",
   "execution_count": 48,
   "source": [
    "rng = np.random.default_rng()\n",
    "sample = rng.integers(low = 1, high = 7, size = 1000)\n",
    "print(np.mean(sample))\n",
    "\n"
   ],
   "outputs": [
    {
     "output_type": "stream",
     "name": "stdout",
     "text": [
      "3.623\n"
     ]
    }
   ],
   "metadata": {
    "colab": {},
    "colab_type": "code",
    "id": "VZD_wMIZCLqK"
   }
  },
  {
   "cell_type": "markdown",
   "source": [
    "**Task 6b.** Repeat Step 1 for 1000 times, plot a histogram for all mean values. "
   ],
   "metadata": {}
  },
  {
   "cell_type": "code",
   "execution_count": 49,
   "source": [
    "def sampleMeans(numMeans):\n",
    "    rng = np.random.default_rng()\n",
    "    means = []\n",
    "    for i in range(0, numMeans):\n",
    "        rng = np.random.default_rng()\n",
    "        sample = rng.integers(low = 1, high = 7, size = 1000)\n",
    "        means.append(np.mean(sample))\n",
    "    return np.array(means)\n",
    "\n",
    "plt.hist(sampleMeans(1000));\n",
    "        \n"
   ],
   "outputs": [
    {
     "output_type": "display_data",
     "data": {
      "text/plain": [
       "<Figure size 432x288 with 1 Axes>"
      ],
      "image/png": "[encoded data removed]"
     },
     "metadata": {
      "needs_background": "light"
     }
    }
   ],
   "metadata": {}
  },
  {
   "cell_type": "markdown",
   "source": [
    "The [Central Limit Theorem](http://sphweb.bumc.bu.edu/otlt/MPH-Modules/BS/BS704_Probability/BS704_Probability12.html) states that for independent and identically distributed (i.i.d) samples, the distribution of the sample means will be normally distributed. Do these results look normally distributed to you?\n",
    "Yes!!"
   ],
   "metadata": {
    "colab_type": "text",
    "id": "SzAyxzjmCLqO"
   }
  },
  {
   "cell_type": "markdown",
   "source": [
    "######  End of Lab 2.\n",
    "Please remember to rename your completed notebook and submit it via Blackboard. "
   ],
   "metadata": {
    "colab_type": "text",
    "id": "yDaglbIWCLqO"
   }
  }
 ],
 "metadata": {
  "colab": {
   "collapsed_sections": [
    "XJQDJ7b8CLl3",
    "BhMmVbrxCLqK"
   ],
   "name": "lab2.ipynb",
   "provenance": [],
   "version": "0.3.2"
  },
  "interpreter": {
   "hash": "537143f7b593fd0d47db82ce2b5e43889682b93f538860d1dda0281ea3ca0611"
  },
  "kernelspec": {
   "name": "python3",
   "display_name": "Python 3.9.6 64-bit ('INFO204': venv)"
  },
  "language_info": {
   "codemirror_mode": {
    "name": "ipython",
    "version": 3
   },
   "file_extension": ".py",
   "mimetype": "text/x-python",
   "name": "python",
   "nbconvert_exporter": "python",
   "pygments_lexer": "ipython3",
   "version": "3.9.6"
  }
 },
 "nbformat": 4,
 "nbformat_minor": 4
}