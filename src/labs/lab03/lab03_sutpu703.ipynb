{
 "cells": [
  {
   "cell_type": "markdown",
   "metadata": {
    "colab_type": "text",
    "id": "ixeC8nxIzbWy"
   },
   "source": [
    "# INFO 204 Lab 3 - Data Wrangling"
   ]
  },
  {
   "cell_type": "markdown",
   "metadata": {},
   "source": [
    "For this lab, we will be working further with pandas data frames, and general data reshaping, cleaning, and such (\"data wrangling\").\n",
    "\n",
    "For code examples revise Lecture 3 and take a look at the the Python [pandas library](https://pandas.pydata.org/) documentation as you will primarily be using functions from this Python package."
   ]
  },
  {
   "cell_type": "markdown",
   "metadata": {},
   "source": [
    "## Part 1 - Data Loading and Aggregation for Simple Descriptive Statistics\n",
    "\n",
    "In this step, you will work with importing CSV files using pandas, and then work with some basic aggregation. We will link the work done in the last tutorial and the end of the previous lab (\"Tim's Breakfast\") and ensure that you know how to use pandas and numpy together to compute various useful statistics.\n",
    "\n",
    "Some of the examples from Lecture 3 will be very useful in this step!\n",
    "\n",
    "Let's start by importing the required libraries for this step:"
   ]
  },
  {
   "cell_type": "code",
   "execution_count": 1,
   "metadata": {},
   "outputs": [],
   "source": [
    "import pandas as pd\n",
    "import numpy as np"
   ]
  },
  {
   "cell_type": "markdown",
   "metadata": {},
   "source": [
    "Then, let's load in our first set of data:"
   ]
  },
  {
   "cell_type": "code",
   "execution_count": 2,
   "metadata": {},
   "outputs": [
    {
     "data": {
      "text/html": [
       "<div>\n",
       "<style scoped>\n",
       "    .dataframe tbody tr th:only-of-type {\n",
       "        vertical-align: middle;\n",
       "    }\n",
       "\n",
       "    .dataframe tbody tr th {\n",
       "        vertical-align: top;\n",
       "    }\n",
       "\n",
       "    .dataframe thead th {\n",
       "        text-align: right;\n",
       "    }\n",
       "</style>\n",
       "<table border=\"1\" class=\"dataframe\">\n",
       "  <thead>\n",
       "    <tr style=\"text-align: right;\">\n",
       "      <th></th>\n",
       "      <th>i</th>\n",
       "      <th>Group</th>\n",
       "      <th>X</th>\n",
       "    </tr>\n",
       "  </thead>\n",
       "  <tbody>\n",
       "    <tr>\n",
       "      <th>0</th>\n",
       "      <td>1</td>\n",
       "      <td>A</td>\n",
       "      <td>2</td>\n",
       "    </tr>\n",
       "    <tr>\n",
       "      <th>1</th>\n",
       "      <td>2</td>\n",
       "      <td>A</td>\n",
       "      <td>7</td>\n",
       "    </tr>\n",
       "    <tr>\n",
       "      <th>2</th>\n",
       "      <td>3</td>\n",
       "      <td>A</td>\n",
       "      <td>4</td>\n",
       "    </tr>\n",
       "    <tr>\n",
       "      <th>3</th>\n",
       "      <td>4</td>\n",
       "      <td>A</td>\n",
       "      <td>9</td>\n",
       "    </tr>\n",
       "    <tr>\n",
       "      <th>4</th>\n",
       "      <td>5</td>\n",
       "      <td>B</td>\n",
       "      <td>6</td>\n",
       "    </tr>\n",
       "    <tr>\n",
       "      <th>5</th>\n",
       "      <td>6</td>\n",
       "      <td>B</td>\n",
       "      <td>7</td>\n",
       "    </tr>\n",
       "    <tr>\n",
       "      <th>6</th>\n",
       "      <td>7</td>\n",
       "      <td>B</td>\n",
       "      <td>10</td>\n",
       "    </tr>\n",
       "    <tr>\n",
       "      <th>7</th>\n",
       "      <td>8</td>\n",
       "      <td>B</td>\n",
       "      <td>9</td>\n",
       "    </tr>\n",
       "  </tbody>\n",
       "</table>\n",
       "</div>"
      ],
      "text/plain": [
       "   i Group   X\n",
       "0  1     A   2\n",
       "1  2     A   7\n",
       "2  3     A   4\n",
       "3  4     A   9\n",
       "4  5     B   6\n",
       "5  6     B   7\n",
       "6  7     B  10\n",
       "7  8     B   9"
      ]
     },
     "execution_count": 2,
     "metadata": {},
     "output_type": "execute_result"
    }
   ],
   "source": [
    "simple_stats = pd.read_csv('simple_stats.csv')\n",
    "\n",
    "simple_stats"
   ]
  },
  {
   "cell_type": "markdown",
   "metadata": {},
   "source": [
    "The data is the same data from the tutorial. Let's compute the same statistics as in the tutorial - we can do this with pandas' [agg()](https://pandas.pydata.org/pandas-docs/stable/reference/api/pandas.DataFrame.agg.html) function:"
   ]
  },
  {
   "cell_type": "code",
   "execution_count": 3,
   "metadata": {},
   "outputs": [
    {
     "data": {
      "text/html": [
       "<div>\n",
       "<style scoped>\n",
       "    .dataframe tbody tr th:only-of-type {\n",
       "        vertical-align: middle;\n",
       "    }\n",
       "\n",
       "    .dataframe tbody tr th {\n",
       "        vertical-align: top;\n",
       "    }\n",
       "\n",
       "    .dataframe thead th {\n",
       "        text-align: right;\n",
       "    }\n",
       "</style>\n",
       "<table border=\"1\" class=\"dataframe\">\n",
       "  <thead>\n",
       "    <tr style=\"text-align: right;\">\n",
       "      <th></th>\n",
       "      <th>X</th>\n",
       "    </tr>\n",
       "  </thead>\n",
       "  <tbody>\n",
       "    <tr>\n",
       "      <th>mean</th>\n",
       "      <td>6.750000</td>\n",
       "    </tr>\n",
       "    <tr>\n",
       "      <th>median</th>\n",
       "      <td>7.000000</td>\n",
       "    </tr>\n",
       "    <tr>\n",
       "      <th>std</th>\n",
       "      <td>2.712405</td>\n",
       "    </tr>\n",
       "  </tbody>\n",
       "</table>\n",
       "</div>"
      ],
      "text/plain": [
       "               X\n",
       "mean    6.750000\n",
       "median  7.000000\n",
       "std     2.712405"
      ]
     },
     "execution_count": 3,
     "metadata": {},
     "output_type": "execute_result"
    }
   ],
   "source": [
    "simple_stats.agg({'X' : [ np.mean, np.median, np.std ] })"
   ]
  },
  {
   "cell_type": "markdown",
   "metadata": {},
   "source": [
    "Alternatively, we could extract the statistics directly from the columns themselves"
   ]
  },
  {
   "cell_type": "code",
   "execution_count": 4,
   "metadata": {},
   "outputs": [
    {
     "name": "stdout",
     "output_type": "stream",
     "text": [
      "The mean of X is 6.75, while its median is 7.0 and it has a standard deviation of 2.712405363721075\n"
     ]
    }
   ],
   "source": [
    "mean = simple_stats['X'].mean()\n",
    "med  = simple_stats['X'].median()\n",
    "std  = simple_stats['X'].std()\n",
    "\n",
    "print(\"The mean of X is {}, while its median is {} and it has a standard deviation of {}\".format(mean, med, std))"
   ]
  },
  {
   "cell_type": "markdown",
   "metadata": {},
   "source": [
    "Grouped statistics (e.g., conditional means) can be easily extracted by using pandas' [groupby()](https://pandas.pydata.org/pandas-docs/stable/reference/api/pandas.DataFrame.groupby.html) function:"
   ]
  },
  {
   "cell_type": "code",
   "execution_count": 5,
   "metadata": {},
   "outputs": [
    {
     "data": {
      "text/html": [
       "<div>\n",
       "<style scoped>\n",
       "    .dataframe tbody tr th:only-of-type {\n",
       "        vertical-align: middle;\n",
       "    }\n",
       "\n",
       "    .dataframe tbody tr th {\n",
       "        vertical-align: top;\n",
       "    }\n",
       "\n",
       "    .dataframe thead tr th {\n",
       "        text-align: left;\n",
       "    }\n",
       "\n",
       "    .dataframe thead tr:last-of-type th {\n",
       "        text-align: right;\n",
       "    }\n",
       "</style>\n",
       "<table border=\"1\" class=\"dataframe\">\n",
       "  <thead>\n",
       "    <tr>\n",
       "      <th></th>\n",
       "      <th colspan=\"3\" halign=\"left\">X</th>\n",
       "    </tr>\n",
       "    <tr>\n",
       "      <th></th>\n",
       "      <th>mean</th>\n",
       "      <th>median</th>\n",
       "      <th>std</th>\n",
       "    </tr>\n",
       "    <tr>\n",
       "      <th>Group</th>\n",
       "      <th></th>\n",
       "      <th></th>\n",
       "      <th></th>\n",
       "    </tr>\n",
       "  </thead>\n",
       "  <tbody>\n",
       "    <tr>\n",
       "      <th>A</th>\n",
       "      <td>5.5</td>\n",
       "      <td>5.5</td>\n",
       "      <td>3.109126</td>\n",
       "    </tr>\n",
       "    <tr>\n",
       "      <th>B</th>\n",
       "      <td>8.0</td>\n",
       "      <td>8.0</td>\n",
       "      <td>1.825742</td>\n",
       "    </tr>\n",
       "  </tbody>\n",
       "</table>\n",
       "</div>"
      ],
      "text/plain": [
       "         X                 \n",
       "      mean median       std\n",
       "Group                      \n",
       "A      5.5    5.5  3.109126\n",
       "B      8.0    8.0  1.825742"
      ]
     },
     "execution_count": 5,
     "metadata": {},
     "output_type": "execute_result"
    }
   ],
   "source": [
    "simple_stats.groupby('Group').agg({'X' : [ np.mean, np.median, np.std ] })"
   ]
  },
  {
   "cell_type": "markdown",
   "metadata": {},
   "source": [
    "Notice that the result when grouped is a data frame with one row per group and the required stats as columns. This is in contrast to when agg() was called without first grouping, which produces a row for each required statistic. If consistency is required, we can transpose the ungrouped result by using pandas' [transpose()](https://pandas.pydata.org/pandas-docs/stable/reference/api/pandas.DataFrame.transpose.html) functionality.\n",
    "\n",
    "**TASK 1:** transpose the \"ungrouped\" aggregation results from the earlier step so that each required statistic appears in its own column:"
   ]
  },
  {
   "cell_type": "code",
   "execution_count": 6,
   "metadata": {},
   "outputs": [
    {
     "data": {
      "text/html": [
       "<div>\n",
       "<style scoped>\n",
       "    .dataframe tbody tr th:only-of-type {\n",
       "        vertical-align: middle;\n",
       "    }\n",
       "\n",
       "    .dataframe tbody tr th {\n",
       "        vertical-align: top;\n",
       "    }\n",
       "\n",
       "    .dataframe thead th {\n",
       "        text-align: right;\n",
       "    }\n",
       "</style>\n",
       "<table border=\"1\" class=\"dataframe\">\n",
       "  <thead>\n",
       "    <tr style=\"text-align: right;\">\n",
       "      <th></th>\n",
       "      <th>mean</th>\n",
       "      <th>median</th>\n",
       "      <th>std</th>\n",
       "    </tr>\n",
       "  </thead>\n",
       "  <tbody>\n",
       "    <tr>\n",
       "      <th>X</th>\n",
       "      <td>6.75</td>\n",
       "      <td>7.0</td>\n",
       "      <td>2.712405</td>\n",
       "    </tr>\n",
       "  </tbody>\n",
       "</table>\n",
       "</div>"
      ],
      "text/plain": [
       "   mean  median       std\n",
       "X  6.75     7.0  2.712405"
      ]
     },
     "execution_count": 6,
     "metadata": {},
     "output_type": "execute_result"
    }
   ],
   "source": [
    "simple_stats.agg({'X' : [ np.mean, np.median, np.std ] }).transpose()"
   ]
  },
  {
   "cell_type": "markdown",
   "metadata": {},
   "source": [
    "## Part 2 - Estimating Probabilities from Sample Data Using Pandas\n",
    "\n",
    "In this step, we will be using pandas and numpy to recreate the steps you performed in the last tutorial.\n",
    "\n",
    "**TASK 2:** first load in the data from the previous tutorial (found in the file tims_breakfast.csv) into a data frame named tims_breakfast:"
   ]
  },
  {
   "cell_type": "code",
   "execution_count": 7,
   "metadata": {},
   "outputs": [
    {
     "data": {
      "text/html": [
       "<div>\n",
       "<style scoped>\n",
       "    .dataframe tbody tr th:only-of-type {\n",
       "        vertical-align: middle;\n",
       "    }\n",
       "\n",
       "    .dataframe tbody tr th {\n",
       "        vertical-align: top;\n",
       "    }\n",
       "\n",
       "    .dataframe thead th {\n",
       "        text-align: right;\n",
       "    }\n",
       "</style>\n",
       "<table border=\"1\" class=\"dataframe\">\n",
       "  <thead>\n",
       "    <tr style=\"text-align: right;\">\n",
       "      <th></th>\n",
       "      <th>Day</th>\n",
       "      <th>Weather</th>\n",
       "      <th>Breakfast</th>\n",
       "    </tr>\n",
       "  </thead>\n",
       "  <tbody>\n",
       "    <tr>\n",
       "      <th>0</th>\n",
       "      <td>1</td>\n",
       "      <td>Fine</td>\n",
       "      <td>Eggs</td>\n",
       "    </tr>\n",
       "    <tr>\n",
       "      <th>1</th>\n",
       "      <td>2</td>\n",
       "      <td>Fine</td>\n",
       "      <td>Muesli</td>\n",
       "    </tr>\n",
       "    <tr>\n",
       "      <th>2</th>\n",
       "      <td>3</td>\n",
       "      <td>Rain</td>\n",
       "      <td>Eggs</td>\n",
       "    </tr>\n",
       "    <tr>\n",
       "      <th>3</th>\n",
       "      <td>4</td>\n",
       "      <td>Fine</td>\n",
       "      <td>Eggs</td>\n",
       "    </tr>\n",
       "    <tr>\n",
       "      <th>4</th>\n",
       "      <td>5</td>\n",
       "      <td>Rain</td>\n",
       "      <td>Muesli</td>\n",
       "    </tr>\n",
       "    <tr>\n",
       "      <th>5</th>\n",
       "      <td>6</td>\n",
       "      <td>Rain</td>\n",
       "      <td>Muesli</td>\n",
       "    </tr>\n",
       "    <tr>\n",
       "      <th>6</th>\n",
       "      <td>7</td>\n",
       "      <td>Fine</td>\n",
       "      <td>Eggs</td>\n",
       "    </tr>\n",
       "    <tr>\n",
       "      <th>7</th>\n",
       "      <td>8</td>\n",
       "      <td>Fine</td>\n",
       "      <td>Eggs</td>\n",
       "    </tr>\n",
       "    <tr>\n",
       "      <th>8</th>\n",
       "      <td>9</td>\n",
       "      <td>Fine</td>\n",
       "      <td>Muesli</td>\n",
       "    </tr>\n",
       "    <tr>\n",
       "      <th>9</th>\n",
       "      <td>10</td>\n",
       "      <td>Rain</td>\n",
       "      <td>Eggs</td>\n",
       "    </tr>\n",
       "  </tbody>\n",
       "</table>\n",
       "</div>"
      ],
      "text/plain": [
       "   Day Weather Breakfast\n",
       "0    1    Fine      Eggs\n",
       "1    2    Fine    Muesli\n",
       "2    3    Rain      Eggs\n",
       "3    4    Fine      Eggs\n",
       "4    5    Rain    Muesli\n",
       "5    6    Rain    Muesli\n",
       "6    7    Fine      Eggs\n",
       "7    8    Fine      Eggs\n",
       "8    9    Fine    Muesli\n",
       "9   10    Rain      Eggs"
      ]
     },
     "execution_count": 7,
     "metadata": {},
     "output_type": "execute_result"
    }
   ],
   "source": [
    "tims_breakfast = pd.read_csv('./tims_breakfast.csv')\n",
    "tims_breakfast"
   ]
  },
  {
   "cell_type": "markdown",
   "metadata": {},
   "source": [
    "Recall that probabilities can be _estimated_ from sample data through computing the proportions of relevant events (observations) in our data. For example, to estimate the probability of Fine weather $P(Fine)$, we can start by identifying the observations (rows) in our data that present Fine weather:"
   ]
  },
  {
   "cell_type": "code",
   "execution_count": 8,
   "metadata": {},
   "outputs": [
    {
     "data": {
      "text/plain": [
       "0     True\n",
       "1     True\n",
       "2    False\n",
       "3     True\n",
       "4    False\n",
       "5    False\n",
       "6     True\n",
       "7     True\n",
       "8     True\n",
       "9    False\n",
       "Name: Weather, dtype: bool"
      ]
     },
     "execution_count": 8,
     "metadata": {},
     "output_type": "execute_result"
    }
   ],
   "source": [
    "tims_breakfast['Weather'] == 'Fine'"
   ]
  },
  {
   "cell_type": "markdown",
   "metadata": {},
   "source": [
    "And from there, just compute the mean of this result (remembering that True is coerced into 1 and False to 0 when they are treated as a number):"
   ]
  },
  {
   "cell_type": "code",
   "execution_count": 9,
   "metadata": {},
   "outputs": [
    {
     "data": {
      "text/plain": [
       "0.6"
      ]
     },
     "execution_count": 9,
     "metadata": {},
     "output_type": "execute_result"
    }
   ],
   "source": [
    "np.mean(tims_breakfast['Weather'] == 'Fine')"
   ]
  },
  {
   "cell_type": "markdown",
   "metadata": {},
   "source": [
    "Joint probabilities can be computed in a similar way, only now multiple columns have to be tested (and the results of each test joined together through a logical 'and'):\n",
    "\n",
    "For example, to estimate the joint probability $P(Fine, Eggs)$, we perform the following:"
   ]
  },
  {
   "cell_type": "code",
   "execution_count": 10,
   "metadata": {},
   "outputs": [
    {
     "data": {
      "text/plain": [
       "0.4"
      ]
     },
     "execution_count": 10,
     "metadata": {},
     "output_type": "execute_result"
    }
   ],
   "source": [
    "np.mean(np.all([tims_breakfast['Weather'] == 'Fine', tims_breakfast['Breakfast'] == 'Eggs'], axis=0))"
   ]
  },
  {
   "cell_type": "markdown",
   "metadata": {},
   "source": [
    "**TASK 3:** Estimate the joint probability $P(Rain,Eggs)$"
   ]
  },
  {
   "cell_type": "code",
   "execution_count": 11,
   "metadata": {},
   "outputs": [
    {
     "data": {
      "text/plain": [
       "0.2"
      ]
     },
     "execution_count": 11,
     "metadata": {},
     "output_type": "execute_result"
    }
   ],
   "source": [
    "\n",
    "np.mean(np.all([tims_breakfast['Weather'] == 'Rain', tims_breakfast['Breakfast'] == 'Eggs'], axis=0))"
   ]
  },
  {
   "cell_type": "markdown",
   "metadata": {},
   "source": [
    "Finally, conditional probabilities can be estimated through a combination of filtering on the conditional event, and then measuring the probability of the event of interest. For example, to estimate $P(Eggs|Fine)$:"
   ]
  },
  {
   "cell_type": "code",
   "execution_count": 12,
   "metadata": {},
   "outputs": [
    {
     "data": {
      "text/plain": [
       "0.6666666666666666"
      ]
     },
     "execution_count": 12,
     "metadata": {},
     "output_type": "execute_result"
    }
   ],
   "source": [
    "np.mean(tims_breakfast[tims_breakfast['Weather'] == 'Fine']['Breakfast'] == 'Eggs')"
   ]
  },
  {
   "cell_type": "markdown",
   "metadata": {},
   "source": [
    "**TASK 4:** Estimate the conditional probability $P(Rain|Eggs)$:"
   ]
  },
  {
   "cell_type": "code",
   "execution_count": 13,
   "metadata": {},
   "outputs": [
    {
     "data": {
      "text/plain": [
       "0.5"
      ]
     },
     "execution_count": 13,
     "metadata": {},
     "output_type": "execute_result"
    }
   ],
   "source": [
    "np.mean(tims_breakfast[tims_breakfast['Weather'] == 'Rain']['Breakfast'] == 'Eggs')"
   ]
  },
  {
   "cell_type": "markdown",
   "metadata": {},
   "source": [
    "## Part 3 - More Pandas Manipulation\n",
    "\n",
    "First we will upload the transactions.csv data set.The data set contains 5000 transactions provided by one of your clients, an e-Commerce website business."
   ]
  },
  {
   "cell_type": "code",
   "execution_count": 14,
   "metadata": {},
   "outputs": [
    {
     "data": {
      "text/html": [
       "<div>\n",
       "<style scoped>\n",
       "    .dataframe tbody tr th:only-of-type {\n",
       "        vertical-align: middle;\n",
       "    }\n",
       "\n",
       "    .dataframe tbody tr th {\n",
       "        vertical-align: top;\n",
       "    }\n",
       "\n",
       "    .dataframe thead th {\n",
       "        text-align: right;\n",
       "    }\n",
       "</style>\n",
       "<table border=\"1\" class=\"dataframe\">\n",
       "  <thead>\n",
       "    <tr style=\"text-align: right;\">\n",
       "      <th></th>\n",
       "      <th>Transaction</th>\n",
       "      <th>Date</th>\n",
       "      <th>Price</th>\n",
       "      <th>Product ID</th>\n",
       "      <th>Quantity Purchased</th>\n",
       "      <th>Serial No</th>\n",
       "      <th>User ID</th>\n",
       "      <th>User Type</th>\n",
       "    </tr>\n",
       "  </thead>\n",
       "  <tbody>\n",
       "    <tr>\n",
       "      <th>0</th>\n",
       "      <td>0</td>\n",
       "      <td>NaN</td>\n",
       "      <td>3191.12</td>\n",
       "      <td>0</td>\n",
       "      <td>19</td>\n",
       "      <td>1000</td>\n",
       "      <td>-101</td>\n",
       "      <td>n</td>\n",
       "    </tr>\n",
       "    <tr>\n",
       "      <th>1</th>\n",
       "      <td>1</td>\n",
       "      <td>NaN</td>\n",
       "      <td>1405.48</td>\n",
       "      <td>3490</td>\n",
       "      <td>23</td>\n",
       "      <td>1001</td>\n",
       "      <td>8674</td>\n",
       "      <td>n</td>\n",
       "    </tr>\n",
       "    <tr>\n",
       "      <th>2</th>\n",
       "      <td>2</td>\n",
       "      <td>NaN</td>\n",
       "      <td>NaN</td>\n",
       "      <td>3503</td>\n",
       "      <td>3</td>\n",
       "      <td>1002</td>\n",
       "      <td>9619</td>\n",
       "      <td>n</td>\n",
       "    </tr>\n",
       "    <tr>\n",
       "      <th>3</th>\n",
       "      <td>3</td>\n",
       "      <td>NaN</td>\n",
       "      <td>1195.60</td>\n",
       "      <td>4372</td>\n",
       "      <td>4</td>\n",
       "      <td>1003</td>\n",
       "      <td>8513</td>\n",
       "      <td>n</td>\n",
       "    </tr>\n",
       "    <tr>\n",
       "      <th>4</th>\n",
       "      <td>4</td>\n",
       "      <td>2016-01-02</td>\n",
       "      <td>834.56</td>\n",
       "      <td>782</td>\n",
       "      <td>23</td>\n",
       "      <td>1004</td>\n",
       "      <td>9643</td>\n",
       "      <td>n</td>\n",
       "    </tr>\n",
       "    <tr>\n",
       "      <th>...</th>\n",
       "      <td>...</td>\n",
       "      <td>...</td>\n",
       "      <td>...</td>\n",
       "      <td>...</td>\n",
       "      <td>...</td>\n",
       "      <td>...</td>\n",
       "      <td>...</td>\n",
       "      <td>...</td>\n",
       "    </tr>\n",
       "    <tr>\n",
       "      <th>4995</th>\n",
       "      <td>4995</td>\n",
       "      <td>2016-02-02</td>\n",
       "      <td>1259.32</td>\n",
       "      <td>5028</td>\n",
       "      <td>28</td>\n",
       "      <td>5995</td>\n",
       "      <td>6222</td>\n",
       "      <td>b</td>\n",
       "    </tr>\n",
       "    <tr>\n",
       "      <th>4996</th>\n",
       "      <td>4996</td>\n",
       "      <td>2016-04-01</td>\n",
       "      <td>521.45</td>\n",
       "      <td>3466</td>\n",
       "      <td>23</td>\n",
       "      <td>5996</td>\n",
       "      <td>8790</td>\n",
       "      <td>d</td>\n",
       "    </tr>\n",
       "    <tr>\n",
       "      <th>4997</th>\n",
       "      <td>4997</td>\n",
       "      <td>2016-01-30</td>\n",
       "      <td>690.08</td>\n",
       "      <td>4533</td>\n",
       "      <td>5</td>\n",
       "      <td>5997</td>\n",
       "      <td>7566</td>\n",
       "      <td>a</td>\n",
       "    </tr>\n",
       "    <tr>\n",
       "      <th>4998</th>\n",
       "      <td>4998</td>\n",
       "      <td>2016-01-25</td>\n",
       "      <td>1874.09</td>\n",
       "      <td>1745</td>\n",
       "      <td>36</td>\n",
       "      <td>5998</td>\n",
       "      <td>8720</td>\n",
       "      <td>c</td>\n",
       "    </tr>\n",
       "    <tr>\n",
       "      <th>4999</th>\n",
       "      <td>4999</td>\n",
       "      <td>2016-12-01</td>\n",
       "      <td>5196.81</td>\n",
       "      <td>3652</td>\n",
       "      <td>34</td>\n",
       "      <td>5999</td>\n",
       "      <td>6450</td>\n",
       "      <td>a</td>\n",
       "    </tr>\n",
       "  </tbody>\n",
       "</table>\n",
       "<p>5000 rows × 8 columns</p>\n",
       "</div>"
      ],
      "text/plain": [
       "      Transaction        Date    Price  Product ID  Quantity Purchased  \\\n",
       "0               0         NaN  3191.12           0                  19   \n",
       "1               1         NaN  1405.48        3490                  23   \n",
       "2               2         NaN      NaN        3503                   3   \n",
       "3               3         NaN  1195.60        4372                   4   \n",
       "4               4  2016-01-02   834.56         782                  23   \n",
       "...           ...         ...      ...         ...                 ...   \n",
       "4995         4995  2016-02-02  1259.32        5028                  28   \n",
       "4996         4996  2016-04-01   521.45        3466                  23   \n",
       "4997         4997  2016-01-30   690.08        4533                   5   \n",
       "4998         4998  2016-01-25  1874.09        1745                  36   \n",
       "4999         4999  2016-12-01  5196.81        3652                  34   \n",
       "\n",
       "      Serial No  User ID User Type  \n",
       "0          1000     -101         n  \n",
       "1          1001     8674         n  \n",
       "2          1002     9619         n  \n",
       "3          1003     8513         n  \n",
       "4          1004     9643         n  \n",
       "...         ...      ...       ...  \n",
       "4995       5995     6222         b  \n",
       "4996       5996     8790         d  \n",
       "4997       5997     7566         a  \n",
       "4998       5998     8720         c  \n",
       "4999       5999     6450         a  \n",
       "\n",
       "[5000 rows x 8 columns]"
      ]
     },
     "execution_count": 14,
     "metadata": {},
     "output_type": "execute_result"
    }
   ],
   "source": [
    "transactions = pd.read_csv('transactions.csv')\n",
    "transactions"
   ]
  },
  {
   "cell_type": "markdown",
   "metadata": {},
   "source": [
    "### Renaming Columns\n",
    "\n",
    "Often, data is imported from a range of sources where the names and data types are not really Python-friendly. For example, the transaction data is presented with column names with spaces and mixed case - the \"Python way\" is to use lower case names with spaces replaced with underscores (the so-called [snake case](https://en.wikipedia.org/wiki/Snake_case)). Let's start by extracting the column names from our transactions data frame:"
   ]
  },
  {
   "cell_type": "code",
   "execution_count": 15,
   "metadata": {},
   "outputs": [
    {
     "name": "stdout",
     "output_type": "stream",
     "text": [
      "['Transaction' 'Date' 'Price' 'Product ID' 'Quantity Purchased'\n",
      " 'Serial No' 'User ID' 'User Type']\n"
     ]
    }
   ],
   "source": [
    "current_column_names = transactions.columns.values\n",
    "print(current_column_names)"
   ]
  },
  {
   "cell_type": "markdown",
   "metadata": {},
   "source": [
    "**TASK 5:** Convert the current columns names to lower case and return the result as a list. Use the builtin [lower()](https://docs.python.org/3/library/stdtypes.html#str.lower) method to do this, and use list comprehension!"
   ]
  },
  {
   "cell_type": "code",
   "execution_count": 16,
   "metadata": {},
   "outputs": [
    {
     "name": "stdout",
     "output_type": "stream",
     "text": [
      "['transaction', 'date', 'price', 'product id', 'quantity purchased', 'serial no', 'user id', 'user type']\n"
     ]
    }
   ],
   "source": [
    "\n",
    "new_column_names = [column.lower() for column in current_column_names]\n",
    "print(new_column_names)"
   ]
  },
  {
   "cell_type": "markdown",
   "metadata": {},
   "source": [
    "**TASK 6:** Replace any spaces with underscores in the lowercase names from the previous step:"
   ]
  },
  {
   "cell_type": "code",
   "execution_count": 17,
   "metadata": {},
   "outputs": [
    {
     "data": {
      "text/plain": [
       "['transaction',\n",
       " 'date',\n",
       " 'price',\n",
       " 'product_id',\n",
       " 'quantity_purchased',\n",
       " 'serial_no',\n",
       " 'user_id',\n",
       " 'user_type']"
      ]
     },
     "execution_count": 17,
     "metadata": {},
     "output_type": "execute_result"
    }
   ],
   "source": [
    "new_column_names = [column.replace(' ', '_') for column in new_column_names]\n",
    "new_column_names"
   ]
  },
  {
   "cell_type": "markdown",
   "metadata": {},
   "source": [
    "To rename the columns in the transactions data frame, we need a  Python [dictionary](https://docs.python.org/3/tutorial/datastructures.html#dictionaries) that maps the old name to a new cleaned up snake case name. We can do this through dict comprehension that essentially combines the steps of Tasks 5 and 6 and stores them in a dictionary under the key of the old column name:"
   ]
  },
  {
   "cell_type": "code",
   "execution_count": 18,
   "metadata": {},
   "outputs": [
    {
     "name": "stdout",
     "output_type": "stream",
     "text": [
      "{'Transaction': 'transaction', 'Date': 'date', 'Price': 'price', 'Product ID': 'product_id', 'Quantity Purchased': 'quantity_purchased', 'Serial No': 'serial_no', 'User ID': 'user_id', 'User Type': 'user_type'}\n"
     ]
    }
   ],
   "source": [
    "new_column_names = { col: col.lower().replace(' ', '_') for col in current_column_names }\n",
    "print(new_column_names)"
   ]
  },
  {
   "cell_type": "markdown",
   "metadata": {},
   "source": [
    "Finally, we can use pandas' [rename()](https://pandas.pydata.org/pandas-docs/stable/reference/api/pandas.DataFrame.rename.html) functionality to rename the columns as desired:"
   ]
  },
  {
   "cell_type": "code",
   "execution_count": 19,
   "metadata": {},
   "outputs": [
    {
     "data": {
      "text/html": [
       "<div>\n",
       "<style scoped>\n",
       "    .dataframe tbody tr th:only-of-type {\n",
       "        vertical-align: middle;\n",
       "    }\n",
       "\n",
       "    .dataframe tbody tr th {\n",
       "        vertical-align: top;\n",
       "    }\n",
       "\n",
       "    .dataframe thead th {\n",
       "        text-align: right;\n",
       "    }\n",
       "</style>\n",
       "<table border=\"1\" class=\"dataframe\">\n",
       "  <thead>\n",
       "    <tr style=\"text-align: right;\">\n",
       "      <th></th>\n",
       "      <th>transaction</th>\n",
       "      <th>date</th>\n",
       "      <th>price</th>\n",
       "      <th>product_id</th>\n",
       "      <th>quantity_purchased</th>\n",
       "      <th>serial_no</th>\n",
       "      <th>user_id</th>\n",
       "      <th>user_type</th>\n",
       "    </tr>\n",
       "  </thead>\n",
       "  <tbody>\n",
       "    <tr>\n",
       "      <th>0</th>\n",
       "      <td>0</td>\n",
       "      <td>NaN</td>\n",
       "      <td>3191.12</td>\n",
       "      <td>0</td>\n",
       "      <td>19</td>\n",
       "      <td>1000</td>\n",
       "      <td>-101</td>\n",
       "      <td>n</td>\n",
       "    </tr>\n",
       "    <tr>\n",
       "      <th>1</th>\n",
       "      <td>1</td>\n",
       "      <td>NaN</td>\n",
       "      <td>1405.48</td>\n",
       "      <td>3490</td>\n",
       "      <td>23</td>\n",
       "      <td>1001</td>\n",
       "      <td>8674</td>\n",
       "      <td>n</td>\n",
       "    </tr>\n",
       "    <tr>\n",
       "      <th>2</th>\n",
       "      <td>2</td>\n",
       "      <td>NaN</td>\n",
       "      <td>NaN</td>\n",
       "      <td>3503</td>\n",
       "      <td>3</td>\n",
       "      <td>1002</td>\n",
       "      <td>9619</td>\n",
       "      <td>n</td>\n",
       "    </tr>\n",
       "    <tr>\n",
       "      <th>3</th>\n",
       "      <td>3</td>\n",
       "      <td>NaN</td>\n",
       "      <td>1195.60</td>\n",
       "      <td>4372</td>\n",
       "      <td>4</td>\n",
       "      <td>1003</td>\n",
       "      <td>8513</td>\n",
       "      <td>n</td>\n",
       "    </tr>\n",
       "    <tr>\n",
       "      <th>4</th>\n",
       "      <td>4</td>\n",
       "      <td>2016-01-02</td>\n",
       "      <td>834.56</td>\n",
       "      <td>782</td>\n",
       "      <td>23</td>\n",
       "      <td>1004</td>\n",
       "      <td>9643</td>\n",
       "      <td>n</td>\n",
       "    </tr>\n",
       "    <tr>\n",
       "      <th>...</th>\n",
       "      <td>...</td>\n",
       "      <td>...</td>\n",
       "      <td>...</td>\n",
       "      <td>...</td>\n",
       "      <td>...</td>\n",
       "      <td>...</td>\n",
       "      <td>...</td>\n",
       "      <td>...</td>\n",
       "    </tr>\n",
       "    <tr>\n",
       "      <th>4995</th>\n",
       "      <td>4995</td>\n",
       "      <td>2016-02-02</td>\n",
       "      <td>1259.32</td>\n",
       "      <td>5028</td>\n",
       "      <td>28</td>\n",
       "      <td>5995</td>\n",
       "      <td>6222</td>\n",
       "      <td>b</td>\n",
       "    </tr>\n",
       "    <tr>\n",
       "      <th>4996</th>\n",
       "      <td>4996</td>\n",
       "      <td>2016-04-01</td>\n",
       "      <td>521.45</td>\n",
       "      <td>3466</td>\n",
       "      <td>23</td>\n",
       "      <td>5996</td>\n",
       "      <td>8790</td>\n",
       "      <td>d</td>\n",
       "    </tr>\n",
       "    <tr>\n",
       "      <th>4997</th>\n",
       "      <td>4997</td>\n",
       "      <td>2016-01-30</td>\n",
       "      <td>690.08</td>\n",
       "      <td>4533</td>\n",
       "      <td>5</td>\n",
       "      <td>5997</td>\n",
       "      <td>7566</td>\n",
       "      <td>a</td>\n",
       "    </tr>\n",
       "    <tr>\n",
       "      <th>4998</th>\n",
       "      <td>4998</td>\n",
       "      <td>2016-01-25</td>\n",
       "      <td>1874.09</td>\n",
       "      <td>1745</td>\n",
       "      <td>36</td>\n",
       "      <td>5998</td>\n",
       "      <td>8720</td>\n",
       "      <td>c</td>\n",
       "    </tr>\n",
       "    <tr>\n",
       "      <th>4999</th>\n",
       "      <td>4999</td>\n",
       "      <td>2016-12-01</td>\n",
       "      <td>5196.81</td>\n",
       "      <td>3652</td>\n",
       "      <td>34</td>\n",
       "      <td>5999</td>\n",
       "      <td>6450</td>\n",
       "      <td>a</td>\n",
       "    </tr>\n",
       "  </tbody>\n",
       "</table>\n",
       "<p>5000 rows × 8 columns</p>\n",
       "</div>"
      ],
      "text/plain": [
       "      transaction        date    price  product_id  quantity_purchased  \\\n",
       "0               0         NaN  3191.12           0                  19   \n",
       "1               1         NaN  1405.48        3490                  23   \n",
       "2               2         NaN      NaN        3503                   3   \n",
       "3               3         NaN  1195.60        4372                   4   \n",
       "4               4  2016-01-02   834.56         782                  23   \n",
       "...           ...         ...      ...         ...                 ...   \n",
       "4995         4995  2016-02-02  1259.32        5028                  28   \n",
       "4996         4996  2016-04-01   521.45        3466                  23   \n",
       "4997         4997  2016-01-30   690.08        4533                   5   \n",
       "4998         4998  2016-01-25  1874.09        1745                  36   \n",
       "4999         4999  2016-12-01  5196.81        3652                  34   \n",
       "\n",
       "      serial_no  user_id user_type  \n",
       "0          1000     -101         n  \n",
       "1          1001     8674         n  \n",
       "2          1002     9619         n  \n",
       "3          1003     8513         n  \n",
       "4          1004     9643         n  \n",
       "...         ...      ...       ...  \n",
       "4995       5995     6222         b  \n",
       "4996       5996     8790         d  \n",
       "4997       5997     7566         a  \n",
       "4998       5998     8720         c  \n",
       "4999       5999     6450         a  \n",
       "\n",
       "[5000 rows x 8 columns]"
      ]
     },
     "execution_count": 19,
     "metadata": {},
     "output_type": "execute_result"
    }
   ],
   "source": [
    "transactions.rename(columns=new_column_names, inplace=True)\n",
    "transactions"
   ]
  },
  {
   "cell_type": "markdown",
   "metadata": {},
   "source": [
    "That's it, our column names look MUCH nicer (from a Python perspective, at least :)).\n",
    "\n",
    "**TASK 7:** Now that the column names are cleaned up, use the [descibe()](https://pandas.pydata.org/pandas-docs/stable/reference/api/pandas.DataFrame.describe.html) function to extract some basic descriptive statistics from the data frame:"
   ]
  },
  {
   "cell_type": "code",
   "execution_count": 20,
   "metadata": {},
   "outputs": [
    {
     "data": {
      "text/html": [
       "<div>\n",
       "<style scoped>\n",
       "    .dataframe tbody tr th:only-of-type {\n",
       "        vertical-align: middle;\n",
       "    }\n",
       "\n",
       "    .dataframe tbody tr th {\n",
       "        vertical-align: top;\n",
       "    }\n",
       "\n",
       "    .dataframe thead th {\n",
       "        text-align: right;\n",
       "    }\n",
       "</style>\n",
       "<table border=\"1\" class=\"dataframe\">\n",
       "  <thead>\n",
       "    <tr style=\"text-align: right;\">\n",
       "      <th></th>\n",
       "      <th>transaction</th>\n",
       "      <th>price</th>\n",
       "      <th>product_id</th>\n",
       "      <th>quantity_purchased</th>\n",
       "      <th>serial_no</th>\n",
       "      <th>user_id</th>\n",
       "    </tr>\n",
       "  </thead>\n",
       "  <tbody>\n",
       "    <tr>\n",
       "      <th>count</th>\n",
       "      <td>5000.000000</td>\n",
       "      <td>4930.000000</td>\n",
       "      <td>5000.000000</td>\n",
       "      <td>5000.000000</td>\n",
       "      <td>5000.000000</td>\n",
       "      <td>5000.000000</td>\n",
       "    </tr>\n",
       "    <tr>\n",
       "      <th>mean</th>\n",
       "      <td>2499.500000</td>\n",
       "      <td>2295.630012</td>\n",
       "      <td>2558.788600</td>\n",
       "      <td>20.762800</td>\n",
       "      <td>3449.496800</td>\n",
       "      <td>7403.354400</td>\n",
       "    </tr>\n",
       "    <tr>\n",
       "      <th>std</th>\n",
       "      <td>1443.520003</td>\n",
       "      <td>1612.857303</td>\n",
       "      <td>1429.168594</td>\n",
       "      <td>11.967605</td>\n",
       "      <td>1492.073484</td>\n",
       "      <td>1381.670856</td>\n",
       "    </tr>\n",
       "    <tr>\n",
       "      <th>min</th>\n",
       "      <td>0.000000</td>\n",
       "      <td>0.370000</td>\n",
       "      <td>0.000000</td>\n",
       "      <td>1.000000</td>\n",
       "      <td>-1.000000</td>\n",
       "      <td>-101.000000</td>\n",
       "    </tr>\n",
       "    <tr>\n",
       "      <th>25%</th>\n",
       "      <td>1249.750000</td>\n",
       "      <td>964.882500</td>\n",
       "      <td>1320.000000</td>\n",
       "      <td>10.000000</td>\n",
       "      <td>2193.750000</td>\n",
       "      <td>6210.250000</td>\n",
       "    </tr>\n",
       "    <tr>\n",
       "      <th>50%</th>\n",
       "      <td>2499.500000</td>\n",
       "      <td>2031.315000</td>\n",
       "      <td>2553.000000</td>\n",
       "      <td>21.000000</td>\n",
       "      <td>3465.500000</td>\n",
       "      <td>7446.000000</td>\n",
       "    </tr>\n",
       "    <tr>\n",
       "      <th>75%</th>\n",
       "      <td>3749.250000</td>\n",
       "      <td>3378.090000</td>\n",
       "      <td>3848.000000</td>\n",
       "      <td>31.000000</td>\n",
       "      <td>4731.250000</td>\n",
       "      <td>8429.250000</td>\n",
       "    </tr>\n",
       "    <tr>\n",
       "      <th>max</th>\n",
       "      <td>4999.000000</td>\n",
       "      <td>8602.810000</td>\n",
       "      <td>5090.000000</td>\n",
       "      <td>41.000000</td>\n",
       "      <td>5999.000000</td>\n",
       "      <td>9986.000000</td>\n",
       "    </tr>\n",
       "  </tbody>\n",
       "</table>\n",
       "</div>"
      ],
      "text/plain": [
       "       transaction        price   product_id  quantity_purchased    serial_no  \\\n",
       "count  5000.000000  4930.000000  5000.000000         5000.000000  5000.000000   \n",
       "mean   2499.500000  2295.630012  2558.788600           20.762800  3449.496800   \n",
       "std    1443.520003  1612.857303  1429.168594           11.967605  1492.073484   \n",
       "min       0.000000     0.370000     0.000000            1.000000    -1.000000   \n",
       "25%    1249.750000   964.882500  1320.000000           10.000000  2193.750000   \n",
       "50%    2499.500000  2031.315000  2553.000000           21.000000  3465.500000   \n",
       "75%    3749.250000  3378.090000  3848.000000           31.000000  4731.250000   \n",
       "max    4999.000000  8602.810000  5090.000000           41.000000  5999.000000   \n",
       "\n",
       "           user_id  \n",
       "count  5000.000000  \n",
       "mean   7403.354400  \n",
       "std    1381.670856  \n",
       "min    -101.000000  \n",
       "25%    6210.250000  \n",
       "50%    7446.000000  \n",
       "75%    8429.250000  \n",
       "max    9986.000000  "
      ]
     },
     "execution_count": 20,
     "metadata": {},
     "output_type": "execute_result"
    }
   ],
   "source": [
    "transactions.describe()"
   ]
  },
  {
   "cell_type": "markdown",
   "metadata": {},
   "source": [
    "### Data Type Conversion\n",
    "\n",
    "Frequently, data will be imported from a convenient \"text\" format (e.g., the [CSV](https://en.wikipedia.org/wiki/Comma-separated_values) format used here). By default, anything that looks like a number will be coerced into a number during the import process, but there are other types of data (e.g., dates, categorical data) where this cannot be easily done through an automatic process (for a good discusssion of why this is so, watch [Tom Scott's video on dates and timezones](https://www.youtube.com/watch?v=-5wpm-gesOY), and then pray you never need to work with dates :)). For these kind of types, we will need to perform the conversion manually.\n",
    "\n",
    "Note that a quick inspection of the [dtypes](https://pandas.pydata.org/pandas-docs/stable/reference/api/pandas.DataFrame.dtypes.html) property of the data frame will give us some quick insights of the data types of our columns:"
   ]
  },
  {
   "cell_type": "code",
   "execution_count": 21,
   "metadata": {},
   "outputs": [
    {
     "data": {
      "text/plain": [
       "transaction             int64\n",
       "date                   object\n",
       "price                 float64\n",
       "product_id              int64\n",
       "quantity_purchased      int64\n",
       "serial_no               int64\n",
       "user_id                 int64\n",
       "user_type              object\n",
       "dtype: object"
      ]
     },
     "execution_count": 21,
     "metadata": {},
     "output_type": "execute_result"
    }
   ],
   "source": [
    "transactions.dtypes"
   ]
  },
  {
   "cell_type": "markdown",
   "metadata": {},
   "source": [
    "Finally, notice that each row has a unique ID in the 'transaction' column. Unique identifiers are often a nuisance in data science (in contrast to databases and information retrieval, where they are crucial!), so we should delete this column.\n",
    "\n",
    "**TASK 8:** Use the examples from Lecture 3 to inform you and delete the transaction column:"
   ]
  },
  {
   "cell_type": "code",
   "execution_count": 22,
   "metadata": {},
   "outputs": [
    {
     "data": {
      "text/html": [
       "<div>\n",
       "<style scoped>\n",
       "    .dataframe tbody tr th:only-of-type {\n",
       "        vertical-align: middle;\n",
       "    }\n",
       "\n",
       "    .dataframe tbody tr th {\n",
       "        vertical-align: top;\n",
       "    }\n",
       "\n",
       "    .dataframe thead th {\n",
       "        text-align: right;\n",
       "    }\n",
       "</style>\n",
       "<table border=\"1\" class=\"dataframe\">\n",
       "  <thead>\n",
       "    <tr style=\"text-align: right;\">\n",
       "      <th></th>\n",
       "      <th>transaction</th>\n",
       "      <th>date</th>\n",
       "      <th>price</th>\n",
       "      <th>quantity_purchased</th>\n",
       "      <th>serial_no</th>\n",
       "      <th>user_type</th>\n",
       "    </tr>\n",
       "  </thead>\n",
       "  <tbody>\n",
       "    <tr>\n",
       "      <th>0</th>\n",
       "      <td>0</td>\n",
       "      <td>NaN</td>\n",
       "      <td>3191.12</td>\n",
       "      <td>19</td>\n",
       "      <td>1000</td>\n",
       "      <td>n</td>\n",
       "    </tr>\n",
       "    <tr>\n",
       "      <th>1</th>\n",
       "      <td>1</td>\n",
       "      <td>NaN</td>\n",
       "      <td>1405.48</td>\n",
       "      <td>23</td>\n",
       "      <td>1001</td>\n",
       "      <td>n</td>\n",
       "    </tr>\n",
       "    <tr>\n",
       "      <th>2</th>\n",
       "      <td>2</td>\n",
       "      <td>NaN</td>\n",
       "      <td>NaN</td>\n",
       "      <td>3</td>\n",
       "      <td>1002</td>\n",
       "      <td>n</td>\n",
       "    </tr>\n",
       "    <tr>\n",
       "      <th>3</th>\n",
       "      <td>3</td>\n",
       "      <td>NaN</td>\n",
       "      <td>1195.60</td>\n",
       "      <td>4</td>\n",
       "      <td>1003</td>\n",
       "      <td>n</td>\n",
       "    </tr>\n",
       "    <tr>\n",
       "      <th>4</th>\n",
       "      <td>4</td>\n",
       "      <td>2016-01-02</td>\n",
       "      <td>834.56</td>\n",
       "      <td>23</td>\n",
       "      <td>1004</td>\n",
       "      <td>n</td>\n",
       "    </tr>\n",
       "    <tr>\n",
       "      <th>...</th>\n",
       "      <td>...</td>\n",
       "      <td>...</td>\n",
       "      <td>...</td>\n",
       "      <td>...</td>\n",
       "      <td>...</td>\n",
       "      <td>...</td>\n",
       "    </tr>\n",
       "    <tr>\n",
       "      <th>4995</th>\n",
       "      <td>4995</td>\n",
       "      <td>2016-02-02</td>\n",
       "      <td>1259.32</td>\n",
       "      <td>28</td>\n",
       "      <td>5995</td>\n",
       "      <td>b</td>\n",
       "    </tr>\n",
       "    <tr>\n",
       "      <th>4996</th>\n",
       "      <td>4996</td>\n",
       "      <td>2016-04-01</td>\n",
       "      <td>521.45</td>\n",
       "      <td>23</td>\n",
       "      <td>5996</td>\n",
       "      <td>d</td>\n",
       "    </tr>\n",
       "    <tr>\n",
       "      <th>4997</th>\n",
       "      <td>4997</td>\n",
       "      <td>2016-01-30</td>\n",
       "      <td>690.08</td>\n",
       "      <td>5</td>\n",
       "      <td>5997</td>\n",
       "      <td>a</td>\n",
       "    </tr>\n",
       "    <tr>\n",
       "      <th>4998</th>\n",
       "      <td>4998</td>\n",
       "      <td>2016-01-25</td>\n",
       "      <td>1874.09</td>\n",
       "      <td>36</td>\n",
       "      <td>5998</td>\n",
       "      <td>c</td>\n",
       "    </tr>\n",
       "    <tr>\n",
       "      <th>4999</th>\n",
       "      <td>4999</td>\n",
       "      <td>2016-12-01</td>\n",
       "      <td>5196.81</td>\n",
       "      <td>34</td>\n",
       "      <td>5999</td>\n",
       "      <td>a</td>\n",
       "    </tr>\n",
       "  </tbody>\n",
       "</table>\n",
       "<p>5000 rows × 6 columns</p>\n",
       "</div>"
      ],
      "text/plain": [
       "      transaction        date    price  quantity_purchased  serial_no  \\\n",
       "0               0         NaN  3191.12                  19       1000   \n",
       "1               1         NaN  1405.48                  23       1001   \n",
       "2               2         NaN      NaN                   3       1002   \n",
       "3               3         NaN  1195.60                   4       1003   \n",
       "4               4  2016-01-02   834.56                  23       1004   \n",
       "...           ...         ...      ...                 ...        ...   \n",
       "4995         4995  2016-02-02  1259.32                  28       5995   \n",
       "4996         4996  2016-04-01   521.45                  23       5996   \n",
       "4997         4997  2016-01-30   690.08                   5       5997   \n",
       "4998         4998  2016-01-25  1874.09                  36       5998   \n",
       "4999         4999  2016-12-01  5196.81                  34       5999   \n",
       "\n",
       "     user_type  \n",
       "0            n  \n",
       "1            n  \n",
       "2            n  \n",
       "3            n  \n",
       "4            n  \n",
       "...        ...  \n",
       "4995         b  \n",
       "4996         d  \n",
       "4997         a  \n",
       "4998         c  \n",
       "4999         a  \n",
       "\n",
       "[5000 rows x 6 columns]"
      ]
     },
     "execution_count": 22,
     "metadata": {},
     "output_type": "execute_result"
    }
   ],
   "source": [
    "transactions.drop(columns=['product_id', 'user_id'], inplace=True)\n",
    "transactions"
   ]
  },
  {
   "cell_type": "markdown",
   "metadata": {},
   "source": [
    "#### Type Conversion (Dates)\n",
    "\n",
    "Dates are notoriously difficult to represent consistently. Importing dates often needs context (e.g., time zone), and the format used to present a date can vary (e.g., in Japan, both 2021 and R3 are used to represent the current year).\n",
    "\n",
    "Let's start by looking at the date column of our transaction data:"
   ]
  },
  {
   "cell_type": "code",
   "execution_count": 23,
   "metadata": {},
   "outputs": [
    {
     "data": {
      "text/plain": [
       "0              NaN\n",
       "1              NaN\n",
       "2              NaN\n",
       "3              NaN\n",
       "4       2016-01-02\n",
       "           ...    \n",
       "4995    2016-02-02\n",
       "4996    2016-04-01\n",
       "4997    2016-01-30\n",
       "4998    2016-01-25\n",
       "4999    2016-12-01\n",
       "Name: date, Length: 5000, dtype: object"
      ]
     },
     "execution_count": 23,
     "metadata": {},
     "output_type": "execute_result"
    }
   ],
   "source": [
    "transactions['date']"
   ]
  },
  {
   "cell_type": "markdown",
   "metadata": {},
   "source": [
    "We can see that the type of date is 'object'. The date column contains missing values (we'll address that shortly), but let's look specifically at the type of the first present value (in the fifth row):"
   ]
  },
  {
   "cell_type": "code",
   "execution_count": 24,
   "metadata": {},
   "outputs": [
    {
     "data": {
      "text/plain": [
       "str"
      ]
     },
     "execution_count": 24,
     "metadata": {},
     "output_type": "execute_result"
    }
   ],
   "source": [
    "type(transactions['date'][4])"
   ]
  },
  {
   "cell_type": "raw",
   "metadata": {},
   "source": [
    "'str' means that the type of this value is string. We would be better served if this column contained date values, so let's use the pandas function [to_datetime()](https://pandas.pydata.org/pandas-docs/stable/reference/api/pandas.to_datetime.html) to fix this:"
   ]
  },
  {
   "cell_type": "code",
   "execution_count": null,
   "metadata": {},
   "outputs": [
    {
     "data": {
      "text/plain": [
       "0             NaT\n",
       "1             NaT\n",
       "2             NaT\n",
       "3             NaT\n",
       "4      2016-01-02\n",
       "          ...    \n",
       "4995   2016-02-02\n",
       "4996   2016-04-01\n",
       "4997   2016-01-30\n",
       "4998   2016-01-25\n",
       "4999   2016-12-01\n",
       "Name: date, Length: 5000, dtype: datetime64[ns]"
      ]
     },
     "execution_count": 120,
     "metadata": {},
     "output_type": "execute_result"
    }
   ],
   "source": [
    "transactions['date'] = pd.to_datetime(transactions['date'])\n",
    "transactions['date']"
   ]
  },
  {
   "cell_type": "markdown",
   "metadata": {},
   "source": [
    "#### Recoding values\n",
    "\n",
    "Let's start by looking at the \"user_type\" column in our data:"
   ]
  },
  {
   "cell_type": "code",
   "execution_count": null,
   "metadata": {},
   "outputs": [
    {
     "data": {
      "text/html": [
       "<div>\n",
       "<style scoped>\n",
       "    .dataframe tbody tr th:only-of-type {\n",
       "        vertical-align: middle;\n",
       "    }\n",
       "\n",
       "    .dataframe tbody tr th {\n",
       "        vertical-align: top;\n",
       "    }\n",
       "\n",
       "    .dataframe thead th {\n",
       "        text-align: right;\n",
       "    }\n",
       "</style>\n",
       "<table border=\"1\" class=\"dataframe\">\n",
       "  <thead>\n",
       "    <tr style=\"text-align: right;\">\n",
       "      <th></th>\n",
       "      <th>user_type</th>\n",
       "    </tr>\n",
       "    <tr>\n",
       "      <th>user_type</th>\n",
       "      <th></th>\n",
       "    </tr>\n",
       "  </thead>\n",
       "  <tbody>\n",
       "    <tr>\n",
       "      <th>a</th>\n",
       "      <td>1242</td>\n",
       "    </tr>\n",
       "    <tr>\n",
       "      <th>b</th>\n",
       "      <td>1200</td>\n",
       "    </tr>\n",
       "    <tr>\n",
       "      <th>c</th>\n",
       "      <td>1211</td>\n",
       "    </tr>\n",
       "    <tr>\n",
       "      <th>d</th>\n",
       "      <td>1278</td>\n",
       "    </tr>\n",
       "    <tr>\n",
       "      <th>n</th>\n",
       "      <td>65</td>\n",
       "    </tr>\n",
       "  </tbody>\n",
       "</table>\n",
       "</div>"
      ],
      "text/plain": [
       "           user_type\n",
       "user_type           \n",
       "a               1242\n",
       "b               1200\n",
       "c               1211\n",
       "d               1278\n",
       "n                 65"
      ]
     },
     "execution_count": 121,
     "metadata": {},
     "output_type": "execute_result"
    }
   ],
   "source": [
    "transactions.groupby('user_type').agg({ 'user_type' : 'count' })"
   ]
  },
  {
   "cell_type": "markdown",
   "metadata": {},
   "source": [
    "We can see that there are a range of different values here: a, b, c, d, and n. These are categorical values, and we might need to provide more meaningful labels. Say for example, we know that:\n",
    "\n",
    "* a and b represent \"new\" customers\n",
    "* c represents an \"existing\" customer\n",
    "* d represents an existing and \"loyal\" customer\n",
    "* n represents some error code\n",
    "\n",
    "Remember, only _domain knowledge_ will provide this mapping - there is no way an automated process could infer this translation. Much like renaming columns, we can rename values in a pandas Series using the [map()](https://pandas.pydata.org/pandas-docs/stable/reference/api/pandas.Series.map.html) function passing in a dictionary of new values:"
   ]
  },
  {
   "cell_type": "code",
   "execution_count": null,
   "metadata": {},
   "outputs": [
    {
     "data": {
      "text/plain": [
       "0          error\n",
       "1          error\n",
       "2          error\n",
       "3          error\n",
       "4          error\n",
       "          ...   \n",
       "4995         new\n",
       "4996       loyal\n",
       "4997         new\n",
       "4998    existing\n",
       "4999         new\n",
       "Name: user_type, Length: 5000, dtype: object"
      ]
     },
     "execution_count": 122,
     "metadata": {},
     "output_type": "execute_result"
    }
   ],
   "source": [
    "new_user_type = transactions['user_type'].map({ 'a' : 'new', 'b' : 'new', 'c' : 'existing', 'd' : 'loyal', 'n' : 'error' })\n",
    "new_user_type"
   ]
  },
  {
   "cell_type": "markdown",
   "metadata": {},
   "source": [
    "We can then update the transactions to use these new values:"
   ]
  },
  {
   "cell_type": "code",
   "execution_count": null,
   "metadata": {},
   "outputs": [
    {
     "data": {
      "text/html": [
       "<div>\n",
       "<style scoped>\n",
       "    .dataframe tbody tr th:only-of-type {\n",
       "        vertical-align: middle;\n",
       "    }\n",
       "\n",
       "    .dataframe tbody tr th {\n",
       "        vertical-align: top;\n",
       "    }\n",
       "\n",
       "    .dataframe thead th {\n",
       "        text-align: right;\n",
       "    }\n",
       "</style>\n",
       "<table border=\"1\" class=\"dataframe\">\n",
       "  <thead>\n",
       "    <tr style=\"text-align: right;\">\n",
       "      <th></th>\n",
       "      <th>transaction</th>\n",
       "      <th>date</th>\n",
       "      <th>price</th>\n",
       "      <th>quantity_purchased</th>\n",
       "      <th>serial_no</th>\n",
       "      <th>user_type</th>\n",
       "    </tr>\n",
       "  </thead>\n",
       "  <tbody>\n",
       "    <tr>\n",
       "      <th>0</th>\n",
       "      <td>0</td>\n",
       "      <td>NaT</td>\n",
       "      <td>3191.12</td>\n",
       "      <td>19</td>\n",
       "      <td>1000</td>\n",
       "      <td>error</td>\n",
       "    </tr>\n",
       "    <tr>\n",
       "      <th>1</th>\n",
       "      <td>1</td>\n",
       "      <td>NaT</td>\n",
       "      <td>1405.48</td>\n",
       "      <td>23</td>\n",
       "      <td>1001</td>\n",
       "      <td>error</td>\n",
       "    </tr>\n",
       "    <tr>\n",
       "      <th>2</th>\n",
       "      <td>2</td>\n",
       "      <td>NaT</td>\n",
       "      <td>NaN</td>\n",
       "      <td>3</td>\n",
       "      <td>1002</td>\n",
       "      <td>error</td>\n",
       "    </tr>\n",
       "    <tr>\n",
       "      <th>3</th>\n",
       "      <td>3</td>\n",
       "      <td>NaT</td>\n",
       "      <td>1195.60</td>\n",
       "      <td>4</td>\n",
       "      <td>1003</td>\n",
       "      <td>error</td>\n",
       "    </tr>\n",
       "    <tr>\n",
       "      <th>4</th>\n",
       "      <td>4</td>\n",
       "      <td>2016-01-02</td>\n",
       "      <td>834.56</td>\n",
       "      <td>23</td>\n",
       "      <td>1004</td>\n",
       "      <td>error</td>\n",
       "    </tr>\n",
       "    <tr>\n",
       "      <th>...</th>\n",
       "      <td>...</td>\n",
       "      <td>...</td>\n",
       "      <td>...</td>\n",
       "      <td>...</td>\n",
       "      <td>...</td>\n",
       "      <td>...</td>\n",
       "    </tr>\n",
       "    <tr>\n",
       "      <th>4995</th>\n",
       "      <td>4995</td>\n",
       "      <td>2016-02-02</td>\n",
       "      <td>1259.32</td>\n",
       "      <td>28</td>\n",
       "      <td>5995</td>\n",
       "      <td>new</td>\n",
       "    </tr>\n",
       "    <tr>\n",
       "      <th>4996</th>\n",
       "      <td>4996</td>\n",
       "      <td>2016-04-01</td>\n",
       "      <td>521.45</td>\n",
       "      <td>23</td>\n",
       "      <td>5996</td>\n",
       "      <td>loyal</td>\n",
       "    </tr>\n",
       "    <tr>\n",
       "      <th>4997</th>\n",
       "      <td>4997</td>\n",
       "      <td>2016-01-30</td>\n",
       "      <td>690.08</td>\n",
       "      <td>5</td>\n",
       "      <td>5997</td>\n",
       "      <td>new</td>\n",
       "    </tr>\n",
       "    <tr>\n",
       "      <th>4998</th>\n",
       "      <td>4998</td>\n",
       "      <td>2016-01-25</td>\n",
       "      <td>1874.09</td>\n",
       "      <td>36</td>\n",
       "      <td>5998</td>\n",
       "      <td>existing</td>\n",
       "    </tr>\n",
       "    <tr>\n",
       "      <th>4999</th>\n",
       "      <td>4999</td>\n",
       "      <td>2016-12-01</td>\n",
       "      <td>5196.81</td>\n",
       "      <td>34</td>\n",
       "      <td>5999</td>\n",
       "      <td>new</td>\n",
       "    </tr>\n",
       "  </tbody>\n",
       "</table>\n",
       "<p>5000 rows × 6 columns</p>\n",
       "</div>"
      ],
      "text/plain": [
       "      transaction       date    price  quantity_purchased  serial_no user_type\n",
       "0               0        NaT  3191.12                  19       1000     error\n",
       "1               1        NaT  1405.48                  23       1001     error\n",
       "2               2        NaT      NaN                   3       1002     error\n",
       "3               3        NaT  1195.60                   4       1003     error\n",
       "4               4 2016-01-02   834.56                  23       1004     error\n",
       "...           ...        ...      ...                 ...        ...       ...\n",
       "4995         4995 2016-02-02  1259.32                  28       5995       new\n",
       "4996         4996 2016-04-01   521.45                  23       5996     loyal\n",
       "4997         4997 2016-01-30   690.08                   5       5997       new\n",
       "4998         4998 2016-01-25  1874.09                  36       5998  existing\n",
       "4999         4999 2016-12-01  5196.81                  34       5999       new\n",
       "\n",
       "[5000 rows x 6 columns]"
      ]
     },
     "execution_count": 123,
     "metadata": {},
     "output_type": "execute_result"
    }
   ],
   "source": [
    "transactions['user_type'] = new_user_type\n",
    "transactions"
   ]
  },
  {
   "cell_type": "markdown",
   "metadata": {},
   "source": [
    "#### Handling Missing Values\n",
    "\n",
    "Missing values often cause many problems so need appropriate handling:\n",
    "\n",
    "* if there's only a few rows with missing values, then often we can get away with just removing these rows;\n",
    "* if a column contains a large number of missing values, then we can question whether or not we actually need the column (i.e., we can possibly remove it);\n",
    "* alternatively, if a column contains missing values then we can \"impute\" an appropriate value for the rows with missing information.\n",
    "\n",
    "It is important to realise that \"missing\" does not always imply an error or ommission. For example, people may elect not to provide certain information in some cases (e.g., date of birth or gender) - in these cases, missing might be reasonably interpreted as \"not provided\" (which is quite a different concept from \"missing\").\n",
    "\n",
    "Let's start by removing rows with missing values - in this case, we will remove rows in which the date value is empty. In pandas, we use the [dropna()](https://pandas.pydata.org/pandas-docs/stable/reference/api/pandas.DataFrame.dropna.html#pandas.DataFrame.dropna) function:"
   ]
  },
  {
   "cell_type": "code",
   "execution_count": null,
   "metadata": {},
   "outputs": [
    {
     "data": {
      "text/html": [
       "<div>\n",
       "<style scoped>\n",
       "    .dataframe tbody tr th:only-of-type {\n",
       "        vertical-align: middle;\n",
       "    }\n",
       "\n",
       "    .dataframe tbody tr th {\n",
       "        vertical-align: top;\n",
       "    }\n",
       "\n",
       "    .dataframe thead th {\n",
       "        text-align: right;\n",
       "    }\n",
       "</style>\n",
       "<table border=\"1\" class=\"dataframe\">\n",
       "  <thead>\n",
       "    <tr style=\"text-align: right;\">\n",
       "      <th></th>\n",
       "      <th>transaction</th>\n",
       "      <th>date</th>\n",
       "      <th>price</th>\n",
       "      <th>quantity_purchased</th>\n",
       "      <th>serial_no</th>\n",
       "      <th>user_type</th>\n",
       "    </tr>\n",
       "  </thead>\n",
       "  <tbody>\n",
       "    <tr>\n",
       "      <th>4</th>\n",
       "      <td>4</td>\n",
       "      <td>2016-01-02</td>\n",
       "      <td>834.56</td>\n",
       "      <td>23</td>\n",
       "      <td>1004</td>\n",
       "      <td>error</td>\n",
       "    </tr>\n",
       "    <tr>\n",
       "      <th>8</th>\n",
       "      <td>8</td>\n",
       "      <td>2016-05-01</td>\n",
       "      <td>2878.89</td>\n",
       "      <td>7</td>\n",
       "      <td>1008</td>\n",
       "      <td>error</td>\n",
       "    </tr>\n",
       "    <tr>\n",
       "      <th>25</th>\n",
       "      <td>25</td>\n",
       "      <td>2016-04-02</td>\n",
       "      <td>954.68</td>\n",
       "      <td>31</td>\n",
       "      <td>1025</td>\n",
       "      <td>error</td>\n",
       "    </tr>\n",
       "    <tr>\n",
       "      <th>26</th>\n",
       "      <td>26</td>\n",
       "      <td>2016-08-01</td>\n",
       "      <td>1199.31</td>\n",
       "      <td>28</td>\n",
       "      <td>1026</td>\n",
       "      <td>NaN</td>\n",
       "    </tr>\n",
       "    <tr>\n",
       "      <th>27</th>\n",
       "      <td>27</td>\n",
       "      <td>2016-11-02</td>\n",
       "      <td>756.10</td>\n",
       "      <td>11</td>\n",
       "      <td>1027</td>\n",
       "      <td>NaN</td>\n",
       "    </tr>\n",
       "    <tr>\n",
       "      <th>...</th>\n",
       "      <td>...</td>\n",
       "      <td>...</td>\n",
       "      <td>...</td>\n",
       "      <td>...</td>\n",
       "      <td>...</td>\n",
       "      <td>...</td>\n",
       "    </tr>\n",
       "    <tr>\n",
       "      <th>4995</th>\n",
       "      <td>4995</td>\n",
       "      <td>2016-02-02</td>\n",
       "      <td>1259.32</td>\n",
       "      <td>28</td>\n",
       "      <td>5995</td>\n",
       "      <td>new</td>\n",
       "    </tr>\n",
       "    <tr>\n",
       "      <th>4996</th>\n",
       "      <td>4996</td>\n",
       "      <td>2016-04-01</td>\n",
       "      <td>521.45</td>\n",
       "      <td>23</td>\n",
       "      <td>5996</td>\n",
       "      <td>loyal</td>\n",
       "    </tr>\n",
       "    <tr>\n",
       "      <th>4997</th>\n",
       "      <td>4997</td>\n",
       "      <td>2016-01-30</td>\n",
       "      <td>690.08</td>\n",
       "      <td>5</td>\n",
       "      <td>5997</td>\n",
       "      <td>new</td>\n",
       "    </tr>\n",
       "    <tr>\n",
       "      <th>4998</th>\n",
       "      <td>4998</td>\n",
       "      <td>2016-01-25</td>\n",
       "      <td>1874.09</td>\n",
       "      <td>36</td>\n",
       "      <td>5998</td>\n",
       "      <td>existing</td>\n",
       "    </tr>\n",
       "    <tr>\n",
       "      <th>4999</th>\n",
       "      <td>4999</td>\n",
       "      <td>2016-12-01</td>\n",
       "      <td>5196.81</td>\n",
       "      <td>34</td>\n",
       "      <td>5999</td>\n",
       "      <td>new</td>\n",
       "    </tr>\n",
       "  </tbody>\n",
       "</table>\n",
       "<p>4930 rows × 6 columns</p>\n",
       "</div>"
      ],
      "text/plain": [
       "      transaction       date    price  quantity_purchased  serial_no user_type\n",
       "4               4 2016-01-02   834.56                  23       1004     error\n",
       "8               8 2016-05-01  2878.89                   7       1008     error\n",
       "25             25 2016-04-02   954.68                  31       1025     error\n",
       "26             26 2016-08-01  1199.31                  28       1026       NaN\n",
       "27             27 2016-11-02   756.10                  11       1027       NaN\n",
       "...           ...        ...      ...                 ...        ...       ...\n",
       "4995         4995 2016-02-02  1259.32                  28       5995       new\n",
       "4996         4996 2016-04-01   521.45                  23       5996     loyal\n",
       "4997         4997 2016-01-30   690.08                   5       5997       new\n",
       "4998         4998 2016-01-25  1874.09                  36       5998  existing\n",
       "4999         4999 2016-12-01  5196.81                  34       5999       new\n",
       "\n",
       "[4930 rows x 6 columns]"
      ]
     },
     "execution_count": 124,
     "metadata": {},
     "output_type": "execute_result"
    }
   ],
   "source": [
    "transactions.dropna(subset=['date'], inplace=True)\n",
    "transactions"
   ]
  },
  {
   "cell_type": "markdown",
   "metadata": {},
   "source": [
    "Notice that 70 rows have been removed. Also note the use of the inplace=True argument to apply the changes directly to the data frame (rather than returning a copy with the changes).\n",
    "\n",
    "**TASK 9:** Now drop the transactions where the user_type is missing:"
   ]
  },
  {
   "cell_type": "code",
   "execution_count": null,
   "metadata": {},
   "outputs": [
    {
     "data": {
      "text/html": [
       "<div>\n",
       "<style scoped>\n",
       "    .dataframe tbody tr th:only-of-type {\n",
       "        vertical-align: middle;\n",
       "    }\n",
       "\n",
       "    .dataframe tbody tr th {\n",
       "        vertical-align: top;\n",
       "    }\n",
       "\n",
       "    .dataframe thead th {\n",
       "        text-align: right;\n",
       "    }\n",
       "</style>\n",
       "<table border=\"1\" class=\"dataframe\">\n",
       "  <thead>\n",
       "    <tr style=\"text-align: right;\">\n",
       "      <th></th>\n",
       "      <th>transaction</th>\n",
       "      <th>date</th>\n",
       "      <th>price</th>\n",
       "      <th>quantity_purchased</th>\n",
       "      <th>serial_no</th>\n",
       "      <th>user_type</th>\n",
       "    </tr>\n",
       "  </thead>\n",
       "  <tbody>\n",
       "    <tr>\n",
       "      <th>4</th>\n",
       "      <td>4</td>\n",
       "      <td>2016-01-02</td>\n",
       "      <td>834.56</td>\n",
       "      <td>23</td>\n",
       "      <td>1004</td>\n",
       "      <td>error</td>\n",
       "    </tr>\n",
       "    <tr>\n",
       "      <th>8</th>\n",
       "      <td>8</td>\n",
       "      <td>2016-05-01</td>\n",
       "      <td>2878.89</td>\n",
       "      <td>7</td>\n",
       "      <td>1008</td>\n",
       "      <td>error</td>\n",
       "    </tr>\n",
       "    <tr>\n",
       "      <th>25</th>\n",
       "      <td>25</td>\n",
       "      <td>2016-04-02</td>\n",
       "      <td>954.68</td>\n",
       "      <td>31</td>\n",
       "      <td>1025</td>\n",
       "      <td>error</td>\n",
       "    </tr>\n",
       "    <tr>\n",
       "      <th>28</th>\n",
       "      <td>28</td>\n",
       "      <td>2016-06-02</td>\n",
       "      <td>1279.32</td>\n",
       "      <td>23</td>\n",
       "      <td>1028</td>\n",
       "      <td>error</td>\n",
       "    </tr>\n",
       "    <tr>\n",
       "      <th>29</th>\n",
       "      <td>29</td>\n",
       "      <td>2016-10-01</td>\n",
       "      <td>1856.78</td>\n",
       "      <td>28</td>\n",
       "      <td>1029</td>\n",
       "      <td>error</td>\n",
       "    </tr>\n",
       "    <tr>\n",
       "      <th>...</th>\n",
       "      <td>...</td>\n",
       "      <td>...</td>\n",
       "      <td>...</td>\n",
       "      <td>...</td>\n",
       "      <td>...</td>\n",
       "      <td>...</td>\n",
       "    </tr>\n",
       "    <tr>\n",
       "      <th>4995</th>\n",
       "      <td>4995</td>\n",
       "      <td>2016-02-02</td>\n",
       "      <td>1259.32</td>\n",
       "      <td>28</td>\n",
       "      <td>5995</td>\n",
       "      <td>new</td>\n",
       "    </tr>\n",
       "    <tr>\n",
       "      <th>4996</th>\n",
       "      <td>4996</td>\n",
       "      <td>2016-04-01</td>\n",
       "      <td>521.45</td>\n",
       "      <td>23</td>\n",
       "      <td>5996</td>\n",
       "      <td>loyal</td>\n",
       "    </tr>\n",
       "    <tr>\n",
       "      <th>4997</th>\n",
       "      <td>4997</td>\n",
       "      <td>2016-01-30</td>\n",
       "      <td>690.08</td>\n",
       "      <td>5</td>\n",
       "      <td>5997</td>\n",
       "      <td>new</td>\n",
       "    </tr>\n",
       "    <tr>\n",
       "      <th>4998</th>\n",
       "      <td>4998</td>\n",
       "      <td>2016-01-25</td>\n",
       "      <td>1874.09</td>\n",
       "      <td>36</td>\n",
       "      <td>5998</td>\n",
       "      <td>existing</td>\n",
       "    </tr>\n",
       "    <tr>\n",
       "      <th>4999</th>\n",
       "      <td>4999</td>\n",
       "      <td>2016-12-01</td>\n",
       "      <td>5196.81</td>\n",
       "      <td>34</td>\n",
       "      <td>5999</td>\n",
       "      <td>new</td>\n",
       "    </tr>\n",
       "  </tbody>\n",
       "</table>\n",
       "<p>4928 rows × 6 columns</p>\n",
       "</div>"
      ],
      "text/plain": [
       "      transaction       date    price  quantity_purchased  serial_no user_type\n",
       "4               4 2016-01-02   834.56                  23       1004     error\n",
       "8               8 2016-05-01  2878.89                   7       1008     error\n",
       "25             25 2016-04-02   954.68                  31       1025     error\n",
       "28             28 2016-06-02  1279.32                  23       1028     error\n",
       "29             29 2016-10-01  1856.78                  28       1029     error\n",
       "...           ...        ...      ...                 ...        ...       ...\n",
       "4995         4995 2016-02-02  1259.32                  28       5995       new\n",
       "4996         4996 2016-04-01   521.45                  23       5996     loyal\n",
       "4997         4997 2016-01-30   690.08                   5       5997       new\n",
       "4998         4998 2016-01-25  1874.09                  36       5998  existing\n",
       "4999         4999 2016-12-01  5196.81                  34       5999       new\n",
       "\n",
       "[4928 rows x 6 columns]"
      ]
     },
     "execution_count": 125,
     "metadata": {},
     "output_type": "execute_result"
    }
   ],
   "source": [
    "transactions.dropna(subset=['user_type'], inplace=True)\n",
    "transactions"
   ]
  },
  {
   "cell_type": "markdown",
   "metadata": {},
   "source": [
    "Finally, let's impute an appropriate value for the price column for when the value is missing. A good default guess for what this value \"should\" be is the mean of the values currently in the column:"
   ]
  },
  {
   "cell_type": "code",
   "execution_count": null,
   "metadata": {},
   "outputs": [
    {
     "data": {
      "text/plain": [
       "2296.5194072854497"
      ]
     },
     "execution_count": 127,
     "metadata": {},
     "output_type": "execute_result"
    }
   ],
   "source": [
    "mean_price = np.mean(transactions['price'])\n",
    "mean_price"
   ]
  },
  {
   "cell_type": "markdown",
   "metadata": {},
   "source": [
    "And now we can use the [fillna()](https://pandas.pydata.org/pandas-docs/stable/reference/api/pandas.DataFrame.fillna.html) function to fill in the missing values:"
   ]
  },
  {
   "cell_type": "code",
   "execution_count": null,
   "metadata": {},
   "outputs": [
    {
     "data": {
      "text/html": [
       "<div>\n",
       "<style scoped>\n",
       "    .dataframe tbody tr th:only-of-type {\n",
       "        vertical-align: middle;\n",
       "    }\n",
       "\n",
       "    .dataframe tbody tr th {\n",
       "        vertical-align: top;\n",
       "    }\n",
       "\n",
       "    .dataframe thead th {\n",
       "        text-align: right;\n",
       "    }\n",
       "</style>\n",
       "<table border=\"1\" class=\"dataframe\">\n",
       "  <thead>\n",
       "    <tr style=\"text-align: right;\">\n",
       "      <th></th>\n",
       "      <th>transaction</th>\n",
       "      <th>date</th>\n",
       "      <th>price</th>\n",
       "      <th>quantity_purchased</th>\n",
       "      <th>serial_no</th>\n",
       "      <th>user_type</th>\n",
       "    </tr>\n",
       "  </thead>\n",
       "  <tbody>\n",
       "    <tr>\n",
       "      <th>4</th>\n",
       "      <td>4</td>\n",
       "      <td>2016-01-02</td>\n",
       "      <td>834.56</td>\n",
       "      <td>23</td>\n",
       "      <td>1004</td>\n",
       "      <td>error</td>\n",
       "    </tr>\n",
       "    <tr>\n",
       "      <th>8</th>\n",
       "      <td>8</td>\n",
       "      <td>2016-05-01</td>\n",
       "      <td>2878.89</td>\n",
       "      <td>7</td>\n",
       "      <td>1008</td>\n",
       "      <td>error</td>\n",
       "    </tr>\n",
       "    <tr>\n",
       "      <th>25</th>\n",
       "      <td>25</td>\n",
       "      <td>2016-04-02</td>\n",
       "      <td>954.68</td>\n",
       "      <td>31</td>\n",
       "      <td>1025</td>\n",
       "      <td>error</td>\n",
       "    </tr>\n",
       "    <tr>\n",
       "      <th>28</th>\n",
       "      <td>28</td>\n",
       "      <td>2016-06-02</td>\n",
       "      <td>1279.32</td>\n",
       "      <td>23</td>\n",
       "      <td>1028</td>\n",
       "      <td>error</td>\n",
       "    </tr>\n",
       "    <tr>\n",
       "      <th>29</th>\n",
       "      <td>29</td>\n",
       "      <td>2016-10-01</td>\n",
       "      <td>1856.78</td>\n",
       "      <td>28</td>\n",
       "      <td>1029</td>\n",
       "      <td>error</td>\n",
       "    </tr>\n",
       "    <tr>\n",
       "      <th>...</th>\n",
       "      <td>...</td>\n",
       "      <td>...</td>\n",
       "      <td>...</td>\n",
       "      <td>...</td>\n",
       "      <td>...</td>\n",
       "      <td>...</td>\n",
       "    </tr>\n",
       "    <tr>\n",
       "      <th>4995</th>\n",
       "      <td>4995</td>\n",
       "      <td>2016-02-02</td>\n",
       "      <td>1259.32</td>\n",
       "      <td>28</td>\n",
       "      <td>5995</td>\n",
       "      <td>new</td>\n",
       "    </tr>\n",
       "    <tr>\n",
       "      <th>4996</th>\n",
       "      <td>4996</td>\n",
       "      <td>2016-04-01</td>\n",
       "      <td>521.45</td>\n",
       "      <td>23</td>\n",
       "      <td>5996</td>\n",
       "      <td>loyal</td>\n",
       "    </tr>\n",
       "    <tr>\n",
       "      <th>4997</th>\n",
       "      <td>4997</td>\n",
       "      <td>2016-01-30</td>\n",
       "      <td>690.08</td>\n",
       "      <td>5</td>\n",
       "      <td>5997</td>\n",
       "      <td>new</td>\n",
       "    </tr>\n",
       "    <tr>\n",
       "      <th>4998</th>\n",
       "      <td>4998</td>\n",
       "      <td>2016-01-25</td>\n",
       "      <td>1874.09</td>\n",
       "      <td>36</td>\n",
       "      <td>5998</td>\n",
       "      <td>existing</td>\n",
       "    </tr>\n",
       "    <tr>\n",
       "      <th>4999</th>\n",
       "      <td>4999</td>\n",
       "      <td>2016-12-01</td>\n",
       "      <td>5196.81</td>\n",
       "      <td>34</td>\n",
       "      <td>5999</td>\n",
       "      <td>new</td>\n",
       "    </tr>\n",
       "  </tbody>\n",
       "</table>\n",
       "<p>4928 rows × 6 columns</p>\n",
       "</div>"
      ],
      "text/plain": [
       "      transaction       date    price  quantity_purchased  serial_no user_type\n",
       "4               4 2016-01-02   834.56                  23       1004     error\n",
       "8               8 2016-05-01  2878.89                   7       1008     error\n",
       "25             25 2016-04-02   954.68                  31       1025     error\n",
       "28             28 2016-06-02  1279.32                  23       1028     error\n",
       "29             29 2016-10-01  1856.78                  28       1029     error\n",
       "...           ...        ...      ...                 ...        ...       ...\n",
       "4995         4995 2016-02-02  1259.32                  28       5995       new\n",
       "4996         4996 2016-04-01   521.45                  23       5996     loyal\n",
       "4997         4997 2016-01-30   690.08                   5       5997       new\n",
       "4998         4998 2016-01-25  1874.09                  36       5998  existing\n",
       "4999         4999 2016-12-01  5196.81                  34       5999       new\n",
       "\n",
       "[4928 rows x 6 columns]"
      ]
     },
     "execution_count": 75,
     "metadata": {},
     "output_type": "execute_result"
    }
   ],
   "source": [
    "transactions['price'].fillna(value=np.round(mean_price,decimals=2), inplace=True)\n",
    "transactions"
   ]
  },
  {
   "cell_type": "markdown",
   "metadata": {},
   "source": [
    "#### Creating Dummy Encodings\n",
    "\n",
    "Many values are categorical in nature - for example, our user_type column that we've just recoded is an example of categorical data (where a variable can take on one value from a finite set of values, and there is no clear ordinal relationship between the categories). In many cases (e.g., classification later in the semester) it's better to recode these columns using a \"one-hot\" or dummy encoding. Rather than doing this by hand, it's easier to defer to pandas' built-in [get_dummies()](https://pandas.pydata.org/docs/reference/api/pandas.get_dummies.html) operations to complete this process:"
   ]
  },
  {
   "cell_type": "code",
   "execution_count": null,
   "metadata": {
    "colab": {},
    "colab_type": "code",
    "id": "hlv3dyVUzbXb"
   },
   "outputs": [
    {
     "data": {
      "text/html": [
       "<div>\n",
       "<style scoped>\n",
       "    .dataframe tbody tr th:only-of-type {\n",
       "        vertical-align: middle;\n",
       "    }\n",
       "\n",
       "    .dataframe tbody tr th {\n",
       "        vertical-align: top;\n",
       "    }\n",
       "\n",
       "    .dataframe thead th {\n",
       "        text-align: right;\n",
       "    }\n",
       "</style>\n",
       "<table border=\"1\" class=\"dataframe\">\n",
       "  <thead>\n",
       "    <tr style=\"text-align: right;\">\n",
       "      <th></th>\n",
       "      <th>transaction</th>\n",
       "      <th>date</th>\n",
       "      <th>price</th>\n",
       "      <th>quantity_purchased</th>\n",
       "      <th>serial_no</th>\n",
       "      <th>user_type_error</th>\n",
       "      <th>user_type_existing</th>\n",
       "      <th>user_type_loyal</th>\n",
       "      <th>user_type_new</th>\n",
       "    </tr>\n",
       "  </thead>\n",
       "  <tbody>\n",
       "    <tr>\n",
       "      <th>4</th>\n",
       "      <td>4</td>\n",
       "      <td>2016-01-02</td>\n",
       "      <td>834.56</td>\n",
       "      <td>23</td>\n",
       "      <td>1004</td>\n",
       "      <td>1</td>\n",
       "      <td>0</td>\n",
       "      <td>0</td>\n",
       "      <td>0</td>\n",
       "    </tr>\n",
       "    <tr>\n",
       "      <th>8</th>\n",
       "      <td>8</td>\n",
       "      <td>2016-05-01</td>\n",
       "      <td>2878.89</td>\n",
       "      <td>7</td>\n",
       "      <td>1008</td>\n",
       "      <td>1</td>\n",
       "      <td>0</td>\n",
       "      <td>0</td>\n",
       "      <td>0</td>\n",
       "    </tr>\n",
       "    <tr>\n",
       "      <th>25</th>\n",
       "      <td>25</td>\n",
       "      <td>2016-04-02</td>\n",
       "      <td>954.68</td>\n",
       "      <td>31</td>\n",
       "      <td>1025</td>\n",
       "      <td>1</td>\n",
       "      <td>0</td>\n",
       "      <td>0</td>\n",
       "      <td>0</td>\n",
       "    </tr>\n",
       "    <tr>\n",
       "      <th>28</th>\n",
       "      <td>28</td>\n",
       "      <td>2016-06-02</td>\n",
       "      <td>1279.32</td>\n",
       "      <td>23</td>\n",
       "      <td>1028</td>\n",
       "      <td>1</td>\n",
       "      <td>0</td>\n",
       "      <td>0</td>\n",
       "      <td>0</td>\n",
       "    </tr>\n",
       "    <tr>\n",
       "      <th>29</th>\n",
       "      <td>29</td>\n",
       "      <td>2016-10-01</td>\n",
       "      <td>1856.78</td>\n",
       "      <td>28</td>\n",
       "      <td>1029</td>\n",
       "      <td>1</td>\n",
       "      <td>0</td>\n",
       "      <td>0</td>\n",
       "      <td>0</td>\n",
       "    </tr>\n",
       "    <tr>\n",
       "      <th>...</th>\n",
       "      <td>...</td>\n",
       "      <td>...</td>\n",
       "      <td>...</td>\n",
       "      <td>...</td>\n",
       "      <td>...</td>\n",
       "      <td>...</td>\n",
       "      <td>...</td>\n",
       "      <td>...</td>\n",
       "      <td>...</td>\n",
       "    </tr>\n",
       "    <tr>\n",
       "      <th>4995</th>\n",
       "      <td>4995</td>\n",
       "      <td>2016-02-02</td>\n",
       "      <td>1259.32</td>\n",
       "      <td>28</td>\n",
       "      <td>5995</td>\n",
       "      <td>0</td>\n",
       "      <td>0</td>\n",
       "      <td>0</td>\n",
       "      <td>1</td>\n",
       "    </tr>\n",
       "    <tr>\n",
       "      <th>4996</th>\n",
       "      <td>4996</td>\n",
       "      <td>2016-04-01</td>\n",
       "      <td>521.45</td>\n",
       "      <td>23</td>\n",
       "      <td>5996</td>\n",
       "      <td>0</td>\n",
       "      <td>0</td>\n",
       "      <td>1</td>\n",
       "      <td>0</td>\n",
       "    </tr>\n",
       "    <tr>\n",
       "      <th>4997</th>\n",
       "      <td>4997</td>\n",
       "      <td>2016-01-30</td>\n",
       "      <td>690.08</td>\n",
       "      <td>5</td>\n",
       "      <td>5997</td>\n",
       "      <td>0</td>\n",
       "      <td>0</td>\n",
       "      <td>0</td>\n",
       "      <td>1</td>\n",
       "    </tr>\n",
       "    <tr>\n",
       "      <th>4998</th>\n",
       "      <td>4998</td>\n",
       "      <td>2016-01-25</td>\n",
       "      <td>1874.09</td>\n",
       "      <td>36</td>\n",
       "      <td>5998</td>\n",
       "      <td>0</td>\n",
       "      <td>1</td>\n",
       "      <td>0</td>\n",
       "      <td>0</td>\n",
       "    </tr>\n",
       "    <tr>\n",
       "      <th>4999</th>\n",
       "      <td>4999</td>\n",
       "      <td>2016-12-01</td>\n",
       "      <td>5196.81</td>\n",
       "      <td>34</td>\n",
       "      <td>5999</td>\n",
       "      <td>0</td>\n",
       "      <td>0</td>\n",
       "      <td>0</td>\n",
       "      <td>1</td>\n",
       "    </tr>\n",
       "  </tbody>\n",
       "</table>\n",
       "<p>4928 rows × 9 columns</p>\n",
       "</div>"
      ],
      "text/plain": [
       "      transaction       date    price  quantity_purchased  serial_no  \\\n",
       "4               4 2016-01-02   834.56                  23       1004   \n",
       "8               8 2016-05-01  2878.89                   7       1008   \n",
       "25             25 2016-04-02   954.68                  31       1025   \n",
       "28             28 2016-06-02  1279.32                  23       1028   \n",
       "29             29 2016-10-01  1856.78                  28       1029   \n",
       "...           ...        ...      ...                 ...        ...   \n",
       "4995         4995 2016-02-02  1259.32                  28       5995   \n",
       "4996         4996 2016-04-01   521.45                  23       5996   \n",
       "4997         4997 2016-01-30   690.08                   5       5997   \n",
       "4998         4998 2016-01-25  1874.09                  36       5998   \n",
       "4999         4999 2016-12-01  5196.81                  34       5999   \n",
       "\n",
       "      user_type_error  user_type_existing  user_type_loyal  user_type_new  \n",
       "4                   1                   0                0              0  \n",
       "8                   1                   0                0              0  \n",
       "25                  1                   0                0              0  \n",
       "28                  1                   0                0              0  \n",
       "29                  1                   0                0              0  \n",
       "...               ...                 ...              ...            ...  \n",
       "4995                0                   0                0              1  \n",
       "4996                0                   0                1              0  \n",
       "4997                0                   0                0              1  \n",
       "4998                0                   1                0              0  \n",
       "4999                0                   0                0              1  \n",
       "\n",
       "[4928 rows x 9 columns]"
      ]
     },
     "execution_count": 76,
     "metadata": {},
     "output_type": "execute_result"
    }
   ],
   "source": [
    "transactions_de = pd.get_dummies(transactions, columns=['user_type'])\n",
    "transactions_de"
   ]
  },
  {
   "cell_type": "markdown",
   "metadata": {},
   "source": [
    "## Final Tasks\n",
    "\n",
    "(note that you only have to complete the ***first two tasks below*** to \"complete\" the lab - the rest are useful tasks that you should still attempt for practice!)\n",
    "\n",
    "Now that we have a clean and 'tidy' data frame ready for analysis, perform the following tasks:\n",
    "\n",
    "**TASK 10:** Produce a histogram of the price column of the transactions:"
   ]
  },
  {
   "cell_type": "code",
   "execution_count": 27,
   "metadata": {},
   "outputs": [
    {
     "data": {
      "image/png": "[encoded data removed]",
      "text/plain": [
       "<Figure size 432x288 with 1 Axes>"
      ]
     },
     "metadata": {
      "needs_background": "light"
     },
     "output_type": "display_data"
    }
   ],
   "source": [
    "import matplotlib.pyplot as plt\n",
    "plt.hist(transactions['price'])\n",
    "plt.show()"
   ]
  },
  {
   "cell_type": "markdown",
   "metadata": {},
   "source": [
    "**TASK 11:** Compute the mean quantity purchased broken down by user type:"
   ]
  },
  {
   "cell_type": "code",
   "execution_count": 25,
   "metadata": {},
   "outputs": [
    {
     "data": {
      "text/html": [
       "<div>\n",
       "<style scoped>\n",
       "    .dataframe tbody tr th:only-of-type {\n",
       "        vertical-align: middle;\n",
       "    }\n",
       "\n",
       "    .dataframe tbody tr th {\n",
       "        vertical-align: top;\n",
       "    }\n",
       "\n",
       "    .dataframe thead tr th {\n",
       "        text-align: left;\n",
       "    }\n",
       "\n",
       "    .dataframe thead tr:last-of-type th {\n",
       "        text-align: right;\n",
       "    }\n",
       "</style>\n",
       "<table border=\"1\" class=\"dataframe\">\n",
       "  <thead>\n",
       "    <tr>\n",
       "      <th></th>\n",
       "      <th>quantity_purchased</th>\n",
       "    </tr>\n",
       "    <tr>\n",
       "      <th></th>\n",
       "      <th>mean</th>\n",
       "    </tr>\n",
       "    <tr>\n",
       "      <th>user_type</th>\n",
       "      <th></th>\n",
       "    </tr>\n",
       "  </thead>\n",
       "  <tbody>\n",
       "    <tr>\n",
       "      <th>a</th>\n",
       "      <td>21.195652</td>\n",
       "    </tr>\n",
       "    <tr>\n",
       "      <th>b</th>\n",
       "      <td>20.754167</td>\n",
       "    </tr>\n",
       "    <tr>\n",
       "      <th>c</th>\n",
       "      <td>20.277457</td>\n",
       "    </tr>\n",
       "    <tr>\n",
       "      <th>d</th>\n",
       "      <td>20.979656</td>\n",
       "    </tr>\n",
       "    <tr>\n",
       "      <th>n</th>\n",
       "      <td>17.138462</td>\n",
       "    </tr>\n",
       "  </tbody>\n",
       "</table>\n",
       "</div>"
      ],
      "text/plain": [
       "          quantity_purchased\n",
       "                        mean\n",
       "user_type                   \n",
       "a                  21.195652\n",
       "b                  20.754167\n",
       "c                  20.277457\n",
       "d                  20.979656\n",
       "n                  17.138462"
      ]
     },
     "execution_count": 25,
     "metadata": {},
     "output_type": "execute_result"
    }
   ],
   "source": [
    "transactions.groupby(transactions['user_type']).agg({'quantity_purchased': [np.mean]})"
   ]
  },
  {
   "cell_type": "markdown",
   "metadata": {},
   "source": [
    "**TASK 12:** Produce a [scatter plot](https://seaborn.pydata.org/generated/seaborn.scatterplot.html) of price (y) against quantity purchased (x):"
   ]
  },
  {
   "cell_type": "code",
   "execution_count": null,
   "metadata": {},
   "outputs": [
    {
     "data": {
      "text/plain": [
       "<matplotlib.collections.PathCollection at 0x7fc66e939a90>"
      ]
     },
     "execution_count": 94,
     "metadata": {},
     "output_type": "execute_result"
    },
    {
     "data": {
      "image/png": "[encoded data removed]",
      "text/plain": [
       "<Figure size 432x288 with 1 Axes>"
      ]
     },
     "metadata": {
      "needs_background": "light"
     },
     "output_type": "display_data"
    }
   ],
   "source": [
    "plt.scatter(y=transactions['price'], x=transactions['quantity_purchased'])"
   ]
  },
  {
   "cell_type": "markdown",
   "metadata": {},
   "source": [
    "**TASK 13:** Produce a [boxplot](https://seaborn.pydata.org/generated/seaborn.boxplot.html) of price (y) broken down by user type (x):"
   ]
  },
  {
   "cell_type": "code",
   "execution_count": 45,
   "metadata": {},
   "outputs": [
    {
     "data": {
      "image/png": "[encoded data removed]",
      "text/plain": [
       "<Figure size 432x288 with 1 Axes>"
      ]
     },
     "metadata": {
      "needs_background": "light"
     },
     "output_type": "display_data"
    }
   ],
   "source": [
    "import seaborn as sns\n",
    "sns.boxplot(y = transactions['price'], x = transactions['user_type'])"
   ]
  }
 ],
 "metadata": {
  "colab": {
   "collapsed_sections": [],
   "name": "Laboratory11.ipynb",
   "provenance": []
  },
  "interpreter": {
   "hash": "537143f7b593fd0d47db82ce2b5e43889682b93f538860d1dda0281ea3ca0611"
  },
  "kernelspec": {
   "display_name": "Python 3 (ipykernel)",
   "language": "python",
   "name": "python3"
  },
  "language_info": {
   "codemirror_mode": {
    "name": "ipython",
    "version": 3
   },
   "file_extension": ".py",
   "mimetype": "text/x-python",
   "name": "python",
   "nbconvert_exporter": "python",
   "pygments_lexer": "ipython3",
   "version": "3.9.6"
  }
 },
 "nbformat": 4,
 "nbformat_minor": 4
}
